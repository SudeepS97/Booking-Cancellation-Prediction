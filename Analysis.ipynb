{
  "nbformat": 4,
  "nbformat_minor": 0,
  "metadata": {
    "colab": {
      "name": "merged.ipynb",
      "provenance": [],
      "collapsed_sections": []
    },
    "kernelspec": {
      "display_name": "Python 3",
      "language": "python",
      "name": "python3"
    },
    "language_info": {
      "codemirror_mode": {
        "name": "ipython",
        "version": 3
      },
      "file_extension": ".py",
      "mimetype": "text/x-python",
      "name": "python",
      "nbconvert_exporter": "python",
      "pygments_lexer": "ipython3",
      "version": "3.7.4"
    },
    "nbTranslate": {
      "displayLangs": [
        "en",
        "es"
      ],
      "hotkey": "alt-t",
      "langInMainMenu": true,
      "sourceLang": "es",
      "targetLang": "en",
      "useGoogleTranslate": true
    },
    "toc": {
      "base_numbering": 1,
      "nav_menu": {},
      "number_sections": true,
      "sideBar": true,
      "skip_h1_title": false,
      "title_cell": "Table of Contents",
      "title_sidebar": "Contents",
      "toc_cell": false,
      "toc_position": {},
      "toc_section_display": true,
      "toc_window_display": true
    }
  },
  "cells": [
    {
      "cell_type": "markdown",
      "metadata": {
        "colab_type": "text",
        "id": "EpiAWVjrvwZA"
      },
      "source": [
        "# Bookings cancellation prediction"
      ]
    },
    {
      "cell_type": "markdown",
      "metadata": {
        "colab_type": "text",
        "id": "DJfQOvr7sI5c"
      },
      "source": [
        "<img align='left' style=\"width:100%\" src='https://www.ezeeabsolute.com/blog/wp-content/uploads/2017/10/E_payment.jpg'>"
      ]
    },
    {
      "cell_type": "markdown",
      "metadata": {
        "colab_type": "text",
        "id": "vNm3mCrXsTBz"
      },
      "source": [
        "Tourism and travel related industries, like Hotels, aim to optimize their room bookings and revenue. Hoteliers understand, however, that alongside these bookings is an uncertainty in regards to guest cancellations and no-shows. Regardless of  the reason behind guest no-shows and cancellations, these occurences largely impact revenue in a number of ways.\n",
        "\n",
        "As such, our work seeks to employ various classification algorithms to develop predictive models which classify hotel bookings to determine whether or not they will cancel or no-show. These models could help hoteliers keep their businesses optimally booked, avert financial risk, and promote increased revenues. \n",
        "\n"
      ]
    },
    {
      "cell_type": "markdown",
      "metadata": {
        "colab_type": "text",
        "id": "cinxNHhOvwZD"
      },
      "source": [
        "# Data"
      ]
    },
    {
      "cell_type": "markdown",
      "metadata": {
        "colab_type": "text",
        "id": "Px8D7Cl4vwZD"
      },
      "source": [
        "The data used in this notebook comes from an open hotel booking demand dataset collected by [Antonio, Almeida and Nunes, 2018](https://www.sciencedirect.com/science/article/pii/S2352340918315191) and downloaded from [R for Data Science online learning community](https://github.com/rfordatascience/tidytuesday/blob/master/data/2020/2020-02-11/hotels.csv).\n",
        "\n",
        "The dataset is a combination of two datasets with hotel demand data. One of the hotels is a resort hotel and the other is a city hotel. Its structure is formed with 32 variables describing the 40,060 observations of *resort hotel* and 79,330 observations of *city hotel*. Each observation represents a hotel booking. \n",
        "\n",
        "The dataset stores bookings due to arrive between the 1st of July of 2015 and the 31st of August 2017, including bookings that effectively arrived and bookings that were canceled. Since this is real hotel data, the authors deleted all data elements pertaining hotel or costumer identification. "
      ]
    },
    {
      "cell_type": "markdown",
      "metadata": {
        "colab_type": "text",
        "id": "2YDxf0zPsk1z"
      },
      "source": [
        "## Variable Description"
      ]
    },
    {
      "cell_type": "markdown",
      "metadata": {
        "colab_type": "text",
        "id": "rvMiJVdLvwZE"
      },
      "source": [
        "Below are listed the features with a short description:\n",
        "\n",
        "|Variable                       |Type      |Description |\n",
        "|:------------------------------|:---------|:-----------|\n",
        "|ADR                            |Numeric   | Average Daily Rate, orthe average price of a hotel room over a given period.  |\n",
        "|Adults                         |Integer   | Number of adults|\n",
        "|Agent                          |Categorical| ID of the travel agency that made the booking|\n",
        "|ArrivalDateDayOfMonth             |Integer    | Day of the month of the arrival date|\n",
        "|ArrivalDateMonth             |Categorical |Month of arrival date with 12 categories: “January” to “December”|\n",
        "|ArrivalDateWeekNumber       |Integer    | Week number of the arrival date|\n",
        "|ArrivalDateYear             |Integer    | Year of arrival date|\n",
        "|AssignedRoomType       |Categorical    |Code for the type of room assigned to the booking. Sometimes the assigned room type differs from the reserved room type due to hotel operation reasons (e.g. overbooking) or by customer request. Code is presented instead of designation for anonymity reasons |\n",
        "|Babies           |Integer    |  Number of babies|\n",
        "|BookingChanges                         |Integer    | Number of changes/amendments made to the booking from the moment the booking was entered on the PMS until the moment of check-in or cancellation|\n",
        "|Children                       |Integer    |Number of children|\n",
        "|Company                         |Categorical    |ID of the company/entity that made the booking or responsible for paying the booking. ID is presented instead of des- ignation for anonymity reasons |\n",
        "|Country                           |Categorical |Country of origin. Categories are repre- sented in the ISO 3155–3:2013 format |\n",
        "|CustomerType                        |Categorical |Type of booking, assuming one of four categories:<br>Contract - when the booking has an allotment or other type of contract associated to it;<br>Group – when the booking is associated to a group;<br>Transient – when the booking is not part of a group or contract, and is not associated to other transient booking;<br>Transient-party – when the booking is transient, but is associated to at least other transient booking |\n",
        "|DaysInWaitingList              |Integer | Number of days the booking was in the waiting list before it was confirmed to the customer |\n",
        "|DepositType           |Categorical |ndication on if the customer made a deposit to guarantee the booking. This variable can assume three categories:<br>No Deposit – no deposit was made;<br>Non Refund – a deposit was made in the value of the total stay cost;<br>Refundable – a deposit was made with a value under the total cost of stay. |\n",
        "|DistributionChannel              |Categorical    | VBooking distribution channel. The term “TA” means “Travel Agents” and “TO” means “Tour Operators”|\n",
        "|Hotel  | Categorical  | Type of hotel (Resort Hotel or City Hotel |\n",
        "|IsCanceled         |Categorical    | Value indicating if the booking was canceled (1) or not (0)|\n",
        "|IsRepeatedGuest |IsRepeatedGuest    | Value indicating if the booking name was from a repeated guest (1) or not (0) |\n",
        "|LeadTime             |Integer | Number of days that elapsed between the entering date of the booking into the PMS and the arrival date |\n",
        "|MarketSegment             |Categorical | Market segment designation. In categories, the term “TA” means “Travel Agents” and “TO” means “Tour Operators” |\n",
        "|Meal                |Categorical    | Type of meal booked. Categories are presented in standard hospitality meal packages: <br> Undefined/SC – no meal package;<br>BB – Bed & Breakfast; <br> HB – Half board (breakfast and one other meal – usually dinner); <br> FB – Full board (breakfast, lunch and dinner) |\n",
        "|PreviousBookingsNotCanceled                   |Integer | Number of previous bookings not cancelled by the customer prior to the current booking|\n",
        "|PreviousCancellations                          |Integer | Number of previous bookings that were cancelled by the customer prior to the current booking |\n",
        "|RequiredCardParkingSpaces                        |Integer | Number of car parking spaces required by the customer|\n",
        "|ReservationStatus           |Categorical    |  Reservation last status, assuming one of three categories:<br>Canceled – booking was canceled by the customer;<br>Check-Out – customer has checked in but already departed;<br>No-Show – customer did not check-in and did inform the hotel of the reason why |\n",
        "|ReservationStatusDate                  |Date | Date at which the last status was set. This variable can be used in conjunction with the ReservationStatus to understand when was the booking canceled or when did the customer checked-out of the hotel|\n",
        "|ReservedRoomType                            |Categorical    | Code of room type reserved. Code is presented instead of designation for anonymity reasons |\n",
        "|StaysInWeekendNights    |Integer    |Number of weekend nights (Saturday or Sunday) the guest stayed or booked to stay at the hotel |\n",
        "|StaysInWeekNights      |Integer    | NNumber of week nights (Monday to Fri- day) the guest stayed or booked to stay at the hotel|\n",
        "|TotalOfSpecialRequests             |Integer | Number of special requests made by the customer (e.g. twin bed or high floor)|"
      ]
    },
    {
      "cell_type": "markdown",
      "metadata": {
        "colab_type": "text",
        "id": "cYWgg0HEvwZE"
      },
      "source": [
        "# Libraries"
      ]
    },
    {
      "cell_type": "code",
      "metadata": {
        "colab_type": "code",
        "id": "dUMXqVoLvwZF",
        "colab": {}
      },
      "source": [
        "\n",
        "# linear algebra\n",
        "import numpy as np \n",
        "\n",
        "# data processing\n",
        "import pandas as pd \n",
        "#pd.set_option('display.max_columns', None) \n",
        "import sklearn as sk\n",
        "\n",
        "# data visualization\n",
        "import seaborn as sns\n",
        "%matplotlib inline\n",
        "from matplotlib import pyplot as plt\n",
        "from matplotlib import style\n",
        "import warnings\n",
        "warnings.simplefilter('ignore')\n"
      ],
      "execution_count": 0,
      "outputs": []
    },
    {
      "cell_type": "markdown",
      "metadata": {
        "colab_type": "text",
        "id": "R2yvIob6thsI"
      },
      "source": [
        ""
      ]
    },
    {
      "cell_type": "markdown",
      "metadata": {
        "colab_type": "text",
        "id": "K5NZiBCqtLHI"
      },
      "source": [
        "# Data Prepocessing"
      ]
    },
    {
      "cell_type": "code",
      "metadata": {
        "colab_type": "code",
        "id": "tqmMOCTMvwZI",
        "outputId": "636bd07a-86c5-4b5a-954e-fccf294f0f4d",
        "colab": {
          "base_uri": "https://localhost:8080/",
          "height": 752
        }
      },
      "source": [
        "rawData = pd.read_csv(\"https://raw.githubusercontent.com/rfordatascience/tidytuesday/master/data/2020/2020-02-11/hotels.csv\")\n",
        "print(\"Shape:\", rawData.shape)\n",
        "rawData.info()"
      ],
      "execution_count": 0,
      "outputs": [
        {
          "output_type": "stream",
          "text": [
            "Shape: (119390, 32)\n",
            "<class 'pandas.core.frame.DataFrame'>\n",
            "RangeIndex: 119390 entries, 0 to 119389\n",
            "Data columns (total 32 columns):\n",
            "hotel                             119390 non-null object\n",
            "is_canceled                       119390 non-null int64\n",
            "lead_time                         119390 non-null int64\n",
            "arrival_date_year                 119390 non-null int64\n",
            "arrival_date_month                119390 non-null object\n",
            "arrival_date_week_number          119390 non-null int64\n",
            "arrival_date_day_of_month         119390 non-null int64\n",
            "stays_in_weekend_nights           119390 non-null int64\n",
            "stays_in_week_nights              119390 non-null int64\n",
            "adults                            119390 non-null int64\n",
            "children                          119386 non-null float64\n",
            "babies                            119390 non-null int64\n",
            "meal                              119390 non-null object\n",
            "country                           118902 non-null object\n",
            "market_segment                    119390 non-null object\n",
            "distribution_channel              119390 non-null object\n",
            "is_repeated_guest                 119390 non-null int64\n",
            "previous_cancellations            119390 non-null int64\n",
            "previous_bookings_not_canceled    119390 non-null int64\n",
            "reserved_room_type                119390 non-null object\n",
            "assigned_room_type                119390 non-null object\n",
            "booking_changes                   119390 non-null int64\n",
            "deposit_type                      119390 non-null object\n",
            "agent                             103050 non-null float64\n",
            "company                           6797 non-null float64\n",
            "days_in_waiting_list              119390 non-null int64\n",
            "customer_type                     119390 non-null object\n",
            "adr                               119390 non-null float64\n",
            "required_car_parking_spaces       119390 non-null int64\n",
            "total_of_special_requests         119390 non-null int64\n",
            "reservation_status                119390 non-null object\n",
            "reservation_status_date           119390 non-null object\n",
            "dtypes: float64(4), int64(16), object(12)\n",
            "memory usage: 29.1+ MB\n"
          ],
          "name": "stdout"
        }
      ]
    },
    {
      "cell_type": "markdown",
      "metadata": {
        "colab_type": "text",
        "id": "qKvskWY9txyG"
      },
      "source": [
        "**The dataset has 119390 examples and 31 features + the target variable (is_canceled)**. 4 of the features are floats, 16 are integers and 12 are objects. On top of that we can already detect some features, that contain missing values, like the ‘company’ feature."
      ]
    },
    {
      "cell_type": "code",
      "metadata": {
        "colab_type": "code",
        "id": "Xl0lGQqet2Hi",
        "outputId": "095d084c-88a3-4799-dfe2-83926e0d9ab0",
        "colab": {
          "base_uri": "https://localhost:8080/",
          "height": 313
        }
      },
      "source": [
        "rawData.head()"
      ],
      "execution_count": 0,
      "outputs": [
        {
          "output_type": "execute_result",
          "data": {
            "text/html": [
              "<div>\n",
              "<style scoped>\n",
              "    .dataframe tbody tr th:only-of-type {\n",
              "        vertical-align: middle;\n",
              "    }\n",
              "\n",
              "    .dataframe tbody tr th {\n",
              "        vertical-align: top;\n",
              "    }\n",
              "\n",
              "    .dataframe thead th {\n",
              "        text-align: right;\n",
              "    }\n",
              "</style>\n",
              "<table border=\"1\" class=\"dataframe\">\n",
              "  <thead>\n",
              "    <tr style=\"text-align: right;\">\n",
              "      <th></th>\n",
              "      <th>hotel</th>\n",
              "      <th>is_canceled</th>\n",
              "      <th>lead_time</th>\n",
              "      <th>arrival_date_year</th>\n",
              "      <th>arrival_date_month</th>\n",
              "      <th>arrival_date_week_number</th>\n",
              "      <th>arrival_date_day_of_month</th>\n",
              "      <th>stays_in_weekend_nights</th>\n",
              "      <th>stays_in_week_nights</th>\n",
              "      <th>adults</th>\n",
              "      <th>...</th>\n",
              "      <th>deposit_type</th>\n",
              "      <th>agent</th>\n",
              "      <th>company</th>\n",
              "      <th>days_in_waiting_list</th>\n",
              "      <th>customer_type</th>\n",
              "      <th>adr</th>\n",
              "      <th>required_car_parking_spaces</th>\n",
              "      <th>total_of_special_requests</th>\n",
              "      <th>reservation_status</th>\n",
              "      <th>reservation_status_date</th>\n",
              "    </tr>\n",
              "  </thead>\n",
              "  <tbody>\n",
              "    <tr>\n",
              "      <td>0</td>\n",
              "      <td>Resort Hotel</td>\n",
              "      <td>0</td>\n",
              "      <td>342</td>\n",
              "      <td>2015</td>\n",
              "      <td>July</td>\n",
              "      <td>27</td>\n",
              "      <td>1</td>\n",
              "      <td>0</td>\n",
              "      <td>0</td>\n",
              "      <td>2</td>\n",
              "      <td>...</td>\n",
              "      <td>No Deposit</td>\n",
              "      <td>NaN</td>\n",
              "      <td>NaN</td>\n",
              "      <td>0</td>\n",
              "      <td>Transient</td>\n",
              "      <td>0.0</td>\n",
              "      <td>0</td>\n",
              "      <td>0</td>\n",
              "      <td>Check-Out</td>\n",
              "      <td>2015-07-01</td>\n",
              "    </tr>\n",
              "    <tr>\n",
              "      <td>1</td>\n",
              "      <td>Resort Hotel</td>\n",
              "      <td>0</td>\n",
              "      <td>737</td>\n",
              "      <td>2015</td>\n",
              "      <td>July</td>\n",
              "      <td>27</td>\n",
              "      <td>1</td>\n",
              "      <td>0</td>\n",
              "      <td>0</td>\n",
              "      <td>2</td>\n",
              "      <td>...</td>\n",
              "      <td>No Deposit</td>\n",
              "      <td>NaN</td>\n",
              "      <td>NaN</td>\n",
              "      <td>0</td>\n",
              "      <td>Transient</td>\n",
              "      <td>0.0</td>\n",
              "      <td>0</td>\n",
              "      <td>0</td>\n",
              "      <td>Check-Out</td>\n",
              "      <td>2015-07-01</td>\n",
              "    </tr>\n",
              "    <tr>\n",
              "      <td>2</td>\n",
              "      <td>Resort Hotel</td>\n",
              "      <td>0</td>\n",
              "      <td>7</td>\n",
              "      <td>2015</td>\n",
              "      <td>July</td>\n",
              "      <td>27</td>\n",
              "      <td>1</td>\n",
              "      <td>0</td>\n",
              "      <td>1</td>\n",
              "      <td>1</td>\n",
              "      <td>...</td>\n",
              "      <td>No Deposit</td>\n",
              "      <td>NaN</td>\n",
              "      <td>NaN</td>\n",
              "      <td>0</td>\n",
              "      <td>Transient</td>\n",
              "      <td>75.0</td>\n",
              "      <td>0</td>\n",
              "      <td>0</td>\n",
              "      <td>Check-Out</td>\n",
              "      <td>2015-07-02</td>\n",
              "    </tr>\n",
              "    <tr>\n",
              "      <td>3</td>\n",
              "      <td>Resort Hotel</td>\n",
              "      <td>0</td>\n",
              "      <td>13</td>\n",
              "      <td>2015</td>\n",
              "      <td>July</td>\n",
              "      <td>27</td>\n",
              "      <td>1</td>\n",
              "      <td>0</td>\n",
              "      <td>1</td>\n",
              "      <td>1</td>\n",
              "      <td>...</td>\n",
              "      <td>No Deposit</td>\n",
              "      <td>304.0</td>\n",
              "      <td>NaN</td>\n",
              "      <td>0</td>\n",
              "      <td>Transient</td>\n",
              "      <td>75.0</td>\n",
              "      <td>0</td>\n",
              "      <td>0</td>\n",
              "      <td>Check-Out</td>\n",
              "      <td>2015-07-02</td>\n",
              "    </tr>\n",
              "    <tr>\n",
              "      <td>4</td>\n",
              "      <td>Resort Hotel</td>\n",
              "      <td>0</td>\n",
              "      <td>14</td>\n",
              "      <td>2015</td>\n",
              "      <td>July</td>\n",
              "      <td>27</td>\n",
              "      <td>1</td>\n",
              "      <td>0</td>\n",
              "      <td>2</td>\n",
              "      <td>2</td>\n",
              "      <td>...</td>\n",
              "      <td>No Deposit</td>\n",
              "      <td>240.0</td>\n",
              "      <td>NaN</td>\n",
              "      <td>0</td>\n",
              "      <td>Transient</td>\n",
              "      <td>98.0</td>\n",
              "      <td>0</td>\n",
              "      <td>1</td>\n",
              "      <td>Check-Out</td>\n",
              "      <td>2015-07-03</td>\n",
              "    </tr>\n",
              "  </tbody>\n",
              "</table>\n",
              "<p>5 rows × 32 columns</p>\n",
              "</div>"
            ],
            "text/plain": [
              "          hotel  is_canceled  lead_time  arrival_date_year arrival_date_month  \\\n",
              "0  Resort Hotel            0        342               2015               July   \n",
              "1  Resort Hotel            0        737               2015               July   \n",
              "2  Resort Hotel            0          7               2015               July   \n",
              "3  Resort Hotel            0         13               2015               July   \n",
              "4  Resort Hotel            0         14               2015               July   \n",
              "\n",
              "   arrival_date_week_number  arrival_date_day_of_month  \\\n",
              "0                        27                          1   \n",
              "1                        27                          1   \n",
              "2                        27                          1   \n",
              "3                        27                          1   \n",
              "4                        27                          1   \n",
              "\n",
              "   stays_in_weekend_nights  stays_in_week_nights  adults  ...  deposit_type  \\\n",
              "0                        0                     0       2  ...    No Deposit   \n",
              "1                        0                     0       2  ...    No Deposit   \n",
              "2                        0                     1       1  ...    No Deposit   \n",
              "3                        0                     1       1  ...    No Deposit   \n",
              "4                        0                     2       2  ...    No Deposit   \n",
              "\n",
              "   agent company days_in_waiting_list customer_type   adr  \\\n",
              "0    NaN     NaN                    0     Transient   0.0   \n",
              "1    NaN     NaN                    0     Transient   0.0   \n",
              "2    NaN     NaN                    0     Transient  75.0   \n",
              "3  304.0     NaN                    0     Transient  75.0   \n",
              "4  240.0     NaN                    0     Transient  98.0   \n",
              "\n",
              "   required_car_parking_spaces  total_of_special_requests  reservation_status  \\\n",
              "0                            0                          0           Check-Out   \n",
              "1                            0                          0           Check-Out   \n",
              "2                            0                          0           Check-Out   \n",
              "3                            0                          0           Check-Out   \n",
              "4                            0                          1           Check-Out   \n",
              "\n",
              "  reservation_status_date  \n",
              "0              2015-07-01  \n",
              "1              2015-07-01  \n",
              "2              2015-07-02  \n",
              "3              2015-07-02  \n",
              "4              2015-07-03  \n",
              "\n",
              "[5 rows x 32 columns]"
            ]
          },
          "metadata": {
            "tags": []
          },
          "execution_count": 4
        }
      ]
    },
    {
      "cell_type": "markdown",
      "metadata": {
        "colab_type": "text",
        "id": "-RXbILgVt5Zu"
      },
      "source": [
        "From the table above, we can note a few things. First of all, that **we need to convert a lot of features into numeric** ones later on, so that the machine learning algorithms can process them. Furthermore, we can see that the **features have widely different ranges**, that we will need to convert into roughly the same scale. We can also spot some more features, that contain missing values (NaN = not a number), that we need to deal with."
      ]
    },
    {
      "cell_type": "markdown",
      "metadata": {
        "colab_type": "text",
        "id": "zHKknI_Ut_x_"
      },
      "source": [
        "## Data Cleaning"
      ]
    },
    {
      "cell_type": "markdown",
      "metadata": {
        "colab_type": "text",
        "id": "wNJIXEKKuGnJ"
      },
      "source": [
        "### Missing Values"
      ]
    },
    {
      "cell_type": "code",
      "metadata": {
        "colab_type": "code",
        "id": "Xmf8Kg5luI7t",
        "outputId": "3032eb60-e920-40e5-ec6a-f26a91b8cb51",
        "colab": {
          "base_uri": "https://localhost:8080/",
          "height": 491
        }
      },
      "source": [
        "fig, ax = plt.subplots(figsize=(10,5))  \n",
        "sns.heatmap(rawData.isnull(),yticklabels=False,cbar=False,cmap='cividis')"
      ],
      "execution_count": 0,
      "outputs": [
        {
          "output_type": "execute_result",
          "data": {
            "text/plain": [
              "<matplotlib.axes._subplots.AxesSubplot at 0x263b8c79e48>"
            ]
          },
          "metadata": {
            "tags": []
          },
          "execution_count": 5
        },
        {
          "output_type": "display_data",
          "data": {
            "image/png": "[encoded data removed]",
            "text/plain": [
              "<Figure size 720x360 with 1 Axes>"
            ]
          },
          "metadata": {
            "tags": [],
            "needs_background": "light"
          }
        }
      ]
    },
    {
      "cell_type": "markdown",
      "metadata": {
        "colab_type": "text",
        "id": "AvVX1ao4uOFj"
      },
      "source": [
        "The plot above shows graphically in yellow color how much data is missing in each feature. **Let’s take a more detailed look at what data is actually missing**:"
      ]
    },
    {
      "cell_type": "code",
      "metadata": {
        "colab_type": "code",
        "id": "S8Nm001euPnT",
        "outputId": "2b971c2c-b29e-4b79-c6a4-7be5a59e5986",
        "colab": {
          "base_uri": "https://localhost:8080/",
          "height": 206
        }
      },
      "source": [
        "null = rawData.isnull().sum().sort_values(ascending=True)\n",
        "percentNull = rawData.isnull().sum()/rawData.isnull().count()*100\n",
        "percentNull = (round(percentNull, 2)).sort_values(ascending=True)\n",
        "missingData = pd.concat([null, percentNull], axis=1, keys=['Count Null', '% Percentage'])\n",
        "missingData.sort_values(by=['Count Null'], ascending=False).head()"
      ],
      "execution_count": 0,
      "outputs": [
        {
          "output_type": "execute_result",
          "data": {
            "text/html": [
              "<div>\n",
              "<style scoped>\n",
              "    .dataframe tbody tr th:only-of-type {\n",
              "        vertical-align: middle;\n",
              "    }\n",
              "\n",
              "    .dataframe tbody tr th {\n",
              "        vertical-align: top;\n",
              "    }\n",
              "\n",
              "    .dataframe thead th {\n",
              "        text-align: right;\n",
              "    }\n",
              "</style>\n",
              "<table border=\"1\" class=\"dataframe\">\n",
              "  <thead>\n",
              "    <tr style=\"text-align: right;\">\n",
              "      <th></th>\n",
              "      <th>Count Null</th>\n",
              "      <th>% Percentage</th>\n",
              "    </tr>\n",
              "  </thead>\n",
              "  <tbody>\n",
              "    <tr>\n",
              "      <td>company</td>\n",
              "      <td>112593</td>\n",
              "      <td>94.31</td>\n",
              "    </tr>\n",
              "    <tr>\n",
              "      <td>agent</td>\n",
              "      <td>16340</td>\n",
              "      <td>13.69</td>\n",
              "    </tr>\n",
              "    <tr>\n",
              "      <td>country</td>\n",
              "      <td>488</td>\n",
              "      <td>0.41</td>\n",
              "    </tr>\n",
              "    <tr>\n",
              "      <td>children</td>\n",
              "      <td>4</td>\n",
              "      <td>0.00</td>\n",
              "    </tr>\n",
              "    <tr>\n",
              "      <td>adr</td>\n",
              "      <td>0</td>\n",
              "      <td>0.00</td>\n",
              "    </tr>\n",
              "  </tbody>\n",
              "</table>\n",
              "</div>"
            ],
            "text/plain": [
              "          Count Null  % Percentage\n",
              "company       112593         94.31\n",
              "agent          16340         13.69\n",
              "country          488          0.41\n",
              "children           4          0.00\n",
              "adr                0          0.00"
            ]
          },
          "metadata": {
            "tags": []
          },
          "execution_count": 6
        }
      ]
    },
    {
      "cell_type": "markdown",
      "metadata": {
        "colab_type": "text",
        "id": "T_dmDTnbuWFf"
      },
      "source": [
        "The 'children' feature has only 4 missing values, which can easily be filled . It will be much more tricky, however, to deal with the ‘Country’ feature which has 488 missing values. The ‘agent’ and 'company' features should be dropped from the dataset, since  13% and 94% of it are missing."
      ]
    },
    {
      "cell_type": "markdown",
      "metadata": {
        "colab_type": "text",
        "id": "yi7FtNTQuX9C"
      },
      "source": [
        "#### Company & Agent:"
      ]
    },
    {
      "cell_type": "code",
      "metadata": {
        "colab_type": "code",
        "id": "3AgHTsRhucrr",
        "colab": {}
      },
      "source": [
        "clnData = rawData.drop(['company', 'agent'], axis=1)"
      ],
      "execution_count": 0,
      "outputs": []
    },
    {
      "cell_type": "markdown",
      "metadata": {
        "colab_type": "text",
        "id": "ov8HPSBTuj2Y"
      },
      "source": [
        "#### Country "
      ]
    },
    {
      "cell_type": "code",
      "metadata": {
        "colab_type": "code",
        "id": "nNtmxdt_uoIM",
        "outputId": "758ef767-a5d5-4ba3-f28b-f002d10cdc2e",
        "colab": {
          "base_uri": "https://localhost:8080/",
          "height": 109
        }
      },
      "source": [
        "print(rawData['country'].describe())"
      ],
      "execution_count": 0,
      "outputs": [
        {
          "output_type": "stream",
          "text": [
            "count     118902\n",
            "unique       177\n",
            "top          PRT\n",
            "freq       48590\n",
            "Name: country, dtype: object\n"
          ],
          "name": "stdout"
        }
      ]
    },
    {
      "cell_type": "markdown",
      "metadata": {
        "colab_type": "text",
        "id": "qkTLwIcQurns"
      },
      "source": [
        "The most common value for country is 'PRT' which stands for Portugal with 48,590 out of 118,902 records. Looking at the bar graph above, PRT has the greatest frequency by far, so we think it is appropriate to fill the missing records with this value.   "
      ]
    },
    {
      "cell_type": "code",
      "metadata": {
        "colab_type": "code",
        "id": "i4w9d5YNutzc",
        "outputId": "97e4d4e3-2965-4c0a-eabb-7e503974572b",
        "colab": {
          "base_uri": "https://localhost:8080/",
          "height": 35
        }
      },
      "source": [
        "clnData['country'] = clnData['country'].fillna('PRT')\n",
        "clnData[\"country\"].isnull().sum()"
      ],
      "execution_count": 0,
      "outputs": [
        {
          "output_type": "execute_result",
          "data": {
            "text/plain": [
              "0"
            ]
          },
          "metadata": {
            "tags": []
          },
          "execution_count": 9
        }
      ]
    },
    {
      "cell_type": "markdown",
      "metadata": {
        "colab_type": "text",
        "id": "g-4uRCNeuxCM"
      },
      "source": [
        "#### Children: "
      ]
    },
    {
      "cell_type": "markdown",
      "metadata": {
        "colab_type": "text",
        "id": "GYtRnAeau1oI"
      },
      "source": [
        "Since the 'children' feature has only 4 missing values, we will just fill these with the most common one."
      ]
    },
    {
      "cell_type": "code",
      "metadata": {
        "colab_type": "code",
        "id": "e3OUVAMVu57g",
        "outputId": "29426fed-b165-4021-9132-433145c38336",
        "colab": {
          "base_uri": "https://localhost:8080/",
          "height": 54
        }
      },
      "source": [
        "rawData['children'].mode()"
      ],
      "execution_count": 0,
      "outputs": [
        {
          "output_type": "execute_result",
          "data": {
            "text/plain": [
              "0    0.0\n",
              "dtype: float64"
            ]
          },
          "metadata": {
            "tags": []
          },
          "execution_count": 10
        }
      ]
    },
    {
      "cell_type": "code",
      "metadata": {
        "colab_type": "code",
        "id": "7JzM-MOvu-LQ",
        "outputId": "27debddf-aae4-4b48-b097-d51ae685ec38",
        "colab": {
          "base_uri": "https://localhost:8080/",
          "height": 35
        }
      },
      "source": [
        "clnData['children'] = clnData['children'].fillna(0.0)\n",
        "clnData[\"children\"].isnull().sum()"
      ],
      "execution_count": 0,
      "outputs": [
        {
          "output_type": "execute_result",
          "data": {
            "text/plain": [
              "0"
            ]
          },
          "metadata": {
            "tags": []
          },
          "execution_count": 11
        }
      ]
    },
    {
      "cell_type": "markdown",
      "metadata": {
        "colab_type": "text",
        "id": "HD1O6A7ivQMv"
      },
      "source": [
        "Now, we have only non-null values in the dataset"
      ]
    },
    {
      "cell_type": "markdown",
      "metadata": {
        "colab_type": "text",
        "id": "VdaqCCplvRu1"
      },
      "source": [
        "### Duplicate Values"
      ]
    },
    {
      "cell_type": "markdown",
      "metadata": {
        "colab_type": "text",
        "id": "ElA9xCcGvUCh"
      },
      "source": [
        "Now, let's see if the dataset has identical records."
      ]
    },
    {
      "cell_type": "code",
      "metadata": {
        "colab_type": "code",
        "id": "C7N0vCfOvWQy",
        "outputId": "7b857ae8-d68e-4ef5-e171-c00c263bab5e",
        "colab": {
          "base_uri": "https://localhost:8080/",
          "height": 1000
        }
      },
      "source": [
        "duplicateRowsDF = clnData[clnData.duplicated(keep=False)]\n",
        "print(\"All Duplicate Rows based on all columns are :\")\n",
        "duplicateRowsDF.head(30)"
      ],
      "execution_count": 0,
      "outputs": [
        {
          "output_type": "stream",
          "text": [
            "All Duplicate Rows based on all columns are :\n"
          ],
          "name": "stdout"
        },
        {
          "output_type": "execute_result",
          "data": {
            "text/html": [
              "<div>\n",
              "<style scoped>\n",
              "    .dataframe tbody tr th:only-of-type {\n",
              "        vertical-align: middle;\n",
              "    }\n",
              "\n",
              "    .dataframe tbody tr th {\n",
              "        vertical-align: top;\n",
              "    }\n",
              "\n",
              "    .dataframe thead th {\n",
              "        text-align: right;\n",
              "    }\n",
              "</style>\n",
              "<table border=\"1\" class=\"dataframe\">\n",
              "  <thead>\n",
              "    <tr style=\"text-align: right;\">\n",
              "      <th></th>\n",
              "      <th>hotel</th>\n",
              "      <th>is_canceled</th>\n",
              "      <th>lead_time</th>\n",
              "      <th>arrival_date_year</th>\n",
              "      <th>arrival_date_month</th>\n",
              "      <th>arrival_date_week_number</th>\n",
              "      <th>arrival_date_day_of_month</th>\n",
              "      <th>stays_in_weekend_nights</th>\n",
              "      <th>stays_in_week_nights</th>\n",
              "      <th>adults</th>\n",
              "      <th>...</th>\n",
              "      <th>assigned_room_type</th>\n",
              "      <th>booking_changes</th>\n",
              "      <th>deposit_type</th>\n",
              "      <th>days_in_waiting_list</th>\n",
              "      <th>customer_type</th>\n",
              "      <th>adr</th>\n",
              "      <th>required_car_parking_spaces</th>\n",
              "      <th>total_of_special_requests</th>\n",
              "      <th>reservation_status</th>\n",
              "      <th>reservation_status_date</th>\n",
              "    </tr>\n",
              "  </thead>\n",
              "  <tbody>\n",
              "    <tr>\n",
              "      <td>4</td>\n",
              "      <td>Resort Hotel</td>\n",
              "      <td>0</td>\n",
              "      <td>14</td>\n",
              "      <td>2015</td>\n",
              "      <td>July</td>\n",
              "      <td>27</td>\n",
              "      <td>1</td>\n",
              "      <td>0</td>\n",
              "      <td>2</td>\n",
              "      <td>2</td>\n",
              "      <td>...</td>\n",
              "      <td>A</td>\n",
              "      <td>0</td>\n",
              "      <td>No Deposit</td>\n",
              "      <td>0</td>\n",
              "      <td>Transient</td>\n",
              "      <td>98.00</td>\n",
              "      <td>0</td>\n",
              "      <td>1</td>\n",
              "      <td>Check-Out</td>\n",
              "      <td>2015-07-03</td>\n",
              "    </tr>\n",
              "    <tr>\n",
              "      <td>5</td>\n",
              "      <td>Resort Hotel</td>\n",
              "      <td>0</td>\n",
              "      <td>14</td>\n",
              "      <td>2015</td>\n",
              "      <td>July</td>\n",
              "      <td>27</td>\n",
              "      <td>1</td>\n",
              "      <td>0</td>\n",
              "      <td>2</td>\n",
              "      <td>2</td>\n",
              "      <td>...</td>\n",
              "      <td>A</td>\n",
              "      <td>0</td>\n",
              "      <td>No Deposit</td>\n",
              "      <td>0</td>\n",
              "      <td>Transient</td>\n",
              "      <td>98.00</td>\n",
              "      <td>0</td>\n",
              "      <td>1</td>\n",
              "      <td>Check-Out</td>\n",
              "      <td>2015-07-03</td>\n",
              "    </tr>\n",
              "    <tr>\n",
              "      <td>21</td>\n",
              "      <td>Resort Hotel</td>\n",
              "      <td>0</td>\n",
              "      <td>72</td>\n",
              "      <td>2015</td>\n",
              "      <td>July</td>\n",
              "      <td>27</td>\n",
              "      <td>1</td>\n",
              "      <td>2</td>\n",
              "      <td>4</td>\n",
              "      <td>2</td>\n",
              "      <td>...</td>\n",
              "      <td>A</td>\n",
              "      <td>1</td>\n",
              "      <td>No Deposit</td>\n",
              "      <td>0</td>\n",
              "      <td>Transient</td>\n",
              "      <td>84.67</td>\n",
              "      <td>0</td>\n",
              "      <td>1</td>\n",
              "      <td>Check-Out</td>\n",
              "      <td>2015-07-07</td>\n",
              "    </tr>\n",
              "    <tr>\n",
              "      <td>22</td>\n",
              "      <td>Resort Hotel</td>\n",
              "      <td>0</td>\n",
              "      <td>72</td>\n",
              "      <td>2015</td>\n",
              "      <td>July</td>\n",
              "      <td>27</td>\n",
              "      <td>1</td>\n",
              "      <td>2</td>\n",
              "      <td>4</td>\n",
              "      <td>2</td>\n",
              "      <td>...</td>\n",
              "      <td>A</td>\n",
              "      <td>1</td>\n",
              "      <td>No Deposit</td>\n",
              "      <td>0</td>\n",
              "      <td>Transient</td>\n",
              "      <td>84.67</td>\n",
              "      <td>0</td>\n",
              "      <td>1</td>\n",
              "      <td>Check-Out</td>\n",
              "      <td>2015-07-07</td>\n",
              "    </tr>\n",
              "    <tr>\n",
              "      <td>39</td>\n",
              "      <td>Resort Hotel</td>\n",
              "      <td>0</td>\n",
              "      <td>70</td>\n",
              "      <td>2015</td>\n",
              "      <td>July</td>\n",
              "      <td>27</td>\n",
              "      <td>2</td>\n",
              "      <td>2</td>\n",
              "      <td>3</td>\n",
              "      <td>2</td>\n",
              "      <td>...</td>\n",
              "      <td>E</td>\n",
              "      <td>0</td>\n",
              "      <td>No Deposit</td>\n",
              "      <td>0</td>\n",
              "      <td>Transient</td>\n",
              "      <td>137.00</td>\n",
              "      <td>0</td>\n",
              "      <td>1</td>\n",
              "      <td>Check-Out</td>\n",
              "      <td>2015-07-07</td>\n",
              "    </tr>\n",
              "    <tr>\n",
              "      <td>43</td>\n",
              "      <td>Resort Hotel</td>\n",
              "      <td>0</td>\n",
              "      <td>70</td>\n",
              "      <td>2015</td>\n",
              "      <td>July</td>\n",
              "      <td>27</td>\n",
              "      <td>2</td>\n",
              "      <td>2</td>\n",
              "      <td>3</td>\n",
              "      <td>2</td>\n",
              "      <td>...</td>\n",
              "      <td>E</td>\n",
              "      <td>0</td>\n",
              "      <td>No Deposit</td>\n",
              "      <td>0</td>\n",
              "      <td>Transient</td>\n",
              "      <td>137.00</td>\n",
              "      <td>0</td>\n",
              "      <td>1</td>\n",
              "      <td>Check-Out</td>\n",
              "      <td>2015-07-07</td>\n",
              "    </tr>\n",
              "    <tr>\n",
              "      <td>132</td>\n",
              "      <td>Resort Hotel</td>\n",
              "      <td>1</td>\n",
              "      <td>5</td>\n",
              "      <td>2015</td>\n",
              "      <td>July</td>\n",
              "      <td>28</td>\n",
              "      <td>5</td>\n",
              "      <td>1</td>\n",
              "      <td>0</td>\n",
              "      <td>2</td>\n",
              "      <td>...</td>\n",
              "      <td>D</td>\n",
              "      <td>0</td>\n",
              "      <td>No Deposit</td>\n",
              "      <td>0</td>\n",
              "      <td>Transient</td>\n",
              "      <td>97.00</td>\n",
              "      <td>0</td>\n",
              "      <td>0</td>\n",
              "      <td>Canceled</td>\n",
              "      <td>2015-07-01</td>\n",
              "    </tr>\n",
              "    <tr>\n",
              "      <td>138</td>\n",
              "      <td>Resort Hotel</td>\n",
              "      <td>1</td>\n",
              "      <td>5</td>\n",
              "      <td>2015</td>\n",
              "      <td>July</td>\n",
              "      <td>28</td>\n",
              "      <td>5</td>\n",
              "      <td>1</td>\n",
              "      <td>0</td>\n",
              "      <td>2</td>\n",
              "      <td>...</td>\n",
              "      <td>D</td>\n",
              "      <td>0</td>\n",
              "      <td>No Deposit</td>\n",
              "      <td>0</td>\n",
              "      <td>Transient</td>\n",
              "      <td>97.00</td>\n",
              "      <td>0</td>\n",
              "      <td>0</td>\n",
              "      <td>Canceled</td>\n",
              "      <td>2015-07-01</td>\n",
              "    </tr>\n",
              "    <tr>\n",
              "      <td>198</td>\n",
              "      <td>Resort Hotel</td>\n",
              "      <td>0</td>\n",
              "      <td>0</td>\n",
              "      <td>2015</td>\n",
              "      <td>July</td>\n",
              "      <td>28</td>\n",
              "      <td>7</td>\n",
              "      <td>0</td>\n",
              "      <td>1</td>\n",
              "      <td>1</td>\n",
              "      <td>...</td>\n",
              "      <td>A</td>\n",
              "      <td>0</td>\n",
              "      <td>No Deposit</td>\n",
              "      <td>0</td>\n",
              "      <td>Transient</td>\n",
              "      <td>109.80</td>\n",
              "      <td>0</td>\n",
              "      <td>3</td>\n",
              "      <td>Check-Out</td>\n",
              "      <td>2015-07-08</td>\n",
              "    </tr>\n",
              "    <tr>\n",
              "      <td>200</td>\n",
              "      <td>Resort Hotel</td>\n",
              "      <td>0</td>\n",
              "      <td>0</td>\n",
              "      <td>2015</td>\n",
              "      <td>July</td>\n",
              "      <td>28</td>\n",
              "      <td>7</td>\n",
              "      <td>0</td>\n",
              "      <td>1</td>\n",
              "      <td>1</td>\n",
              "      <td>...</td>\n",
              "      <td>A</td>\n",
              "      <td>0</td>\n",
              "      <td>No Deposit</td>\n",
              "      <td>0</td>\n",
              "      <td>Transient</td>\n",
              "      <td>109.80</td>\n",
              "      <td>0</td>\n",
              "      <td>3</td>\n",
              "      <td>Check-Out</td>\n",
              "      <td>2015-07-08</td>\n",
              "    </tr>\n",
              "    <tr>\n",
              "      <td>218</td>\n",
              "      <td>Resort Hotel</td>\n",
              "      <td>1</td>\n",
              "      <td>1</td>\n",
              "      <td>2015</td>\n",
              "      <td>July</td>\n",
              "      <td>28</td>\n",
              "      <td>8</td>\n",
              "      <td>0</td>\n",
              "      <td>1</td>\n",
              "      <td>2</td>\n",
              "      <td>...</td>\n",
              "      <td>A</td>\n",
              "      <td>0</td>\n",
              "      <td>No Deposit</td>\n",
              "      <td>0</td>\n",
              "      <td>Transient</td>\n",
              "      <td>104.72</td>\n",
              "      <td>0</td>\n",
              "      <td>1</td>\n",
              "      <td>Canceled</td>\n",
              "      <td>2015-07-08</td>\n",
              "    </tr>\n",
              "    <tr>\n",
              "      <td>219</td>\n",
              "      <td>Resort Hotel</td>\n",
              "      <td>1</td>\n",
              "      <td>1</td>\n",
              "      <td>2015</td>\n",
              "      <td>July</td>\n",
              "      <td>28</td>\n",
              "      <td>8</td>\n",
              "      <td>0</td>\n",
              "      <td>1</td>\n",
              "      <td>2</td>\n",
              "      <td>...</td>\n",
              "      <td>A</td>\n",
              "      <td>0</td>\n",
              "      <td>No Deposit</td>\n",
              "      <td>0</td>\n",
              "      <td>Transient</td>\n",
              "      <td>104.72</td>\n",
              "      <td>0</td>\n",
              "      <td>1</td>\n",
              "      <td>Canceled</td>\n",
              "      <td>2015-07-08</td>\n",
              "    </tr>\n",
              "    <tr>\n",
              "      <td>250</td>\n",
              "      <td>Resort Hotel</td>\n",
              "      <td>0</td>\n",
              "      <td>91</td>\n",
              "      <td>2015</td>\n",
              "      <td>July</td>\n",
              "      <td>28</td>\n",
              "      <td>10</td>\n",
              "      <td>0</td>\n",
              "      <td>2</td>\n",
              "      <td>2</td>\n",
              "      <td>...</td>\n",
              "      <td>A</td>\n",
              "      <td>0</td>\n",
              "      <td>No Deposit</td>\n",
              "      <td>0</td>\n",
              "      <td>Transient</td>\n",
              "      <td>73.80</td>\n",
              "      <td>0</td>\n",
              "      <td>1</td>\n",
              "      <td>Check-Out</td>\n",
              "      <td>2015-07-12</td>\n",
              "    </tr>\n",
              "    <tr>\n",
              "      <td>256</td>\n",
              "      <td>Resort Hotel</td>\n",
              "      <td>0</td>\n",
              "      <td>91</td>\n",
              "      <td>2015</td>\n",
              "      <td>July</td>\n",
              "      <td>28</td>\n",
              "      <td>10</td>\n",
              "      <td>0</td>\n",
              "      <td>2</td>\n",
              "      <td>2</td>\n",
              "      <td>...</td>\n",
              "      <td>A</td>\n",
              "      <td>0</td>\n",
              "      <td>No Deposit</td>\n",
              "      <td>0</td>\n",
              "      <td>Transient</td>\n",
              "      <td>73.80</td>\n",
              "      <td>0</td>\n",
              "      <td>1</td>\n",
              "      <td>Check-Out</td>\n",
              "      <td>2015-07-12</td>\n",
              "    </tr>\n",
              "    <tr>\n",
              "      <td>260</td>\n",
              "      <td>Resort Hotel</td>\n",
              "      <td>0</td>\n",
              "      <td>30</td>\n",
              "      <td>2015</td>\n",
              "      <td>July</td>\n",
              "      <td>28</td>\n",
              "      <td>10</td>\n",
              "      <td>2</td>\n",
              "      <td>2</td>\n",
              "      <td>2</td>\n",
              "      <td>...</td>\n",
              "      <td>F</td>\n",
              "      <td>0</td>\n",
              "      <td>No Deposit</td>\n",
              "      <td>0</td>\n",
              "      <td>Transient-Party</td>\n",
              "      <td>197.00</td>\n",
              "      <td>0</td>\n",
              "      <td>1</td>\n",
              "      <td>Check-Out</td>\n",
              "      <td>2015-07-14</td>\n",
              "    </tr>\n",
              "    <tr>\n",
              "      <td>261</td>\n",
              "      <td>Resort Hotel</td>\n",
              "      <td>0</td>\n",
              "      <td>30</td>\n",
              "      <td>2015</td>\n",
              "      <td>July</td>\n",
              "      <td>28</td>\n",
              "      <td>10</td>\n",
              "      <td>2</td>\n",
              "      <td>2</td>\n",
              "      <td>2</td>\n",
              "      <td>...</td>\n",
              "      <td>F</td>\n",
              "      <td>0</td>\n",
              "      <td>No Deposit</td>\n",
              "      <td>0</td>\n",
              "      <td>Transient-Party</td>\n",
              "      <td>197.00</td>\n",
              "      <td>0</td>\n",
              "      <td>1</td>\n",
              "      <td>Check-Out</td>\n",
              "      <td>2015-07-14</td>\n",
              "    </tr>\n",
              "    <tr>\n",
              "      <td>350</td>\n",
              "      <td>Resort Hotel</td>\n",
              "      <td>0</td>\n",
              "      <td>98</td>\n",
              "      <td>2015</td>\n",
              "      <td>July</td>\n",
              "      <td>29</td>\n",
              "      <td>13</td>\n",
              "      <td>1</td>\n",
              "      <td>1</td>\n",
              "      <td>2</td>\n",
              "      <td>...</td>\n",
              "      <td>A</td>\n",
              "      <td>0</td>\n",
              "      <td>No Deposit</td>\n",
              "      <td>0</td>\n",
              "      <td>Transient-Party</td>\n",
              "      <td>82.00</td>\n",
              "      <td>0</td>\n",
              "      <td>3</td>\n",
              "      <td>Check-Out</td>\n",
              "      <td>2015-07-15</td>\n",
              "    </tr>\n",
              "    <tr>\n",
              "      <td>353</td>\n",
              "      <td>Resort Hotel</td>\n",
              "      <td>0</td>\n",
              "      <td>98</td>\n",
              "      <td>2015</td>\n",
              "      <td>July</td>\n",
              "      <td>29</td>\n",
              "      <td>13</td>\n",
              "      <td>1</td>\n",
              "      <td>1</td>\n",
              "      <td>2</td>\n",
              "      <td>...</td>\n",
              "      <td>A</td>\n",
              "      <td>0</td>\n",
              "      <td>No Deposit</td>\n",
              "      <td>0</td>\n",
              "      <td>Transient-Party</td>\n",
              "      <td>82.00</td>\n",
              "      <td>0</td>\n",
              "      <td>3</td>\n",
              "      <td>Check-Out</td>\n",
              "      <td>2015-07-15</td>\n",
              "    </tr>\n",
              "    <tr>\n",
              "      <td>366</td>\n",
              "      <td>Resort Hotel</td>\n",
              "      <td>0</td>\n",
              "      <td>40</td>\n",
              "      <td>2015</td>\n",
              "      <td>July</td>\n",
              "      <td>29</td>\n",
              "      <td>13</td>\n",
              "      <td>1</td>\n",
              "      <td>4</td>\n",
              "      <td>2</td>\n",
              "      <td>...</td>\n",
              "      <td>D</td>\n",
              "      <td>0</td>\n",
              "      <td>No Deposit</td>\n",
              "      <td>0</td>\n",
              "      <td>Transient</td>\n",
              "      <td>120.00</td>\n",
              "      <td>0</td>\n",
              "      <td>2</td>\n",
              "      <td>Check-Out</td>\n",
              "      <td>2015-07-18</td>\n",
              "    </tr>\n",
              "    <tr>\n",
              "      <td>372</td>\n",
              "      <td>Resort Hotel</td>\n",
              "      <td>0</td>\n",
              "      <td>40</td>\n",
              "      <td>2015</td>\n",
              "      <td>July</td>\n",
              "      <td>29</td>\n",
              "      <td>13</td>\n",
              "      <td>1</td>\n",
              "      <td>4</td>\n",
              "      <td>2</td>\n",
              "      <td>...</td>\n",
              "      <td>D</td>\n",
              "      <td>0</td>\n",
              "      <td>No Deposit</td>\n",
              "      <td>0</td>\n",
              "      <td>Transient</td>\n",
              "      <td>120.00</td>\n",
              "      <td>0</td>\n",
              "      <td>2</td>\n",
              "      <td>Check-Out</td>\n",
              "      <td>2015-07-18</td>\n",
              "    </tr>\n",
              "    <tr>\n",
              "      <td>413</td>\n",
              "      <td>Resort Hotel</td>\n",
              "      <td>0</td>\n",
              "      <td>57</td>\n",
              "      <td>2015</td>\n",
              "      <td>July</td>\n",
              "      <td>29</td>\n",
              "      <td>15</td>\n",
              "      <td>0</td>\n",
              "      <td>2</td>\n",
              "      <td>2</td>\n",
              "      <td>...</td>\n",
              "      <td>C</td>\n",
              "      <td>0</td>\n",
              "      <td>No Deposit</td>\n",
              "      <td>0</td>\n",
              "      <td>Transient-Party</td>\n",
              "      <td>107.00</td>\n",
              "      <td>0</td>\n",
              "      <td>0</td>\n",
              "      <td>Check-Out</td>\n",
              "      <td>2015-07-17</td>\n",
              "    </tr>\n",
              "    <tr>\n",
              "      <td>414</td>\n",
              "      <td>Resort Hotel</td>\n",
              "      <td>0</td>\n",
              "      <td>57</td>\n",
              "      <td>2015</td>\n",
              "      <td>July</td>\n",
              "      <td>29</td>\n",
              "      <td>15</td>\n",
              "      <td>0</td>\n",
              "      <td>2</td>\n",
              "      <td>2</td>\n",
              "      <td>...</td>\n",
              "      <td>A</td>\n",
              "      <td>0</td>\n",
              "      <td>No Deposit</td>\n",
              "      <td>0</td>\n",
              "      <td>Transient-Party</td>\n",
              "      <td>107.00</td>\n",
              "      <td>0</td>\n",
              "      <td>0</td>\n",
              "      <td>Check-Out</td>\n",
              "      <td>2015-07-17</td>\n",
              "    </tr>\n",
              "    <tr>\n",
              "      <td>415</td>\n",
              "      <td>Resort Hotel</td>\n",
              "      <td>0</td>\n",
              "      <td>57</td>\n",
              "      <td>2015</td>\n",
              "      <td>July</td>\n",
              "      <td>29</td>\n",
              "      <td>15</td>\n",
              "      <td>0</td>\n",
              "      <td>2</td>\n",
              "      <td>2</td>\n",
              "      <td>...</td>\n",
              "      <td>A</td>\n",
              "      <td>0</td>\n",
              "      <td>No Deposit</td>\n",
              "      <td>0</td>\n",
              "      <td>Transient-Party</td>\n",
              "      <td>107.00</td>\n",
              "      <td>0</td>\n",
              "      <td>0</td>\n",
              "      <td>Check-Out</td>\n",
              "      <td>2015-07-17</td>\n",
              "    </tr>\n",
              "    <tr>\n",
              "      <td>416</td>\n",
              "      <td>Resort Hotel</td>\n",
              "      <td>0</td>\n",
              "      <td>57</td>\n",
              "      <td>2015</td>\n",
              "      <td>July</td>\n",
              "      <td>29</td>\n",
              "      <td>15</td>\n",
              "      <td>0</td>\n",
              "      <td>2</td>\n",
              "      <td>2</td>\n",
              "      <td>...</td>\n",
              "      <td>C</td>\n",
              "      <td>0</td>\n",
              "      <td>No Deposit</td>\n",
              "      <td>0</td>\n",
              "      <td>Transient-Party</td>\n",
              "      <td>107.00</td>\n",
              "      <td>0</td>\n",
              "      <td>0</td>\n",
              "      <td>Check-Out</td>\n",
              "      <td>2015-07-17</td>\n",
              "    </tr>\n",
              "    <tr>\n",
              "      <td>417</td>\n",
              "      <td>Resort Hotel</td>\n",
              "      <td>0</td>\n",
              "      <td>57</td>\n",
              "      <td>2015</td>\n",
              "      <td>July</td>\n",
              "      <td>29</td>\n",
              "      <td>15</td>\n",
              "      <td>0</td>\n",
              "      <td>2</td>\n",
              "      <td>2</td>\n",
              "      <td>...</td>\n",
              "      <td>D</td>\n",
              "      <td>0</td>\n",
              "      <td>No Deposit</td>\n",
              "      <td>0</td>\n",
              "      <td>Transient</td>\n",
              "      <td>107.00</td>\n",
              "      <td>0</td>\n",
              "      <td>0</td>\n",
              "      <td>Check-Out</td>\n",
              "      <td>2015-07-17</td>\n",
              "    </tr>\n",
              "    <tr>\n",
              "      <td>419</td>\n",
              "      <td>Resort Hotel</td>\n",
              "      <td>0</td>\n",
              "      <td>57</td>\n",
              "      <td>2015</td>\n",
              "      <td>July</td>\n",
              "      <td>29</td>\n",
              "      <td>15</td>\n",
              "      <td>0</td>\n",
              "      <td>2</td>\n",
              "      <td>2</td>\n",
              "      <td>...</td>\n",
              "      <td>A</td>\n",
              "      <td>0</td>\n",
              "      <td>No Deposit</td>\n",
              "      <td>0</td>\n",
              "      <td>Transient</td>\n",
              "      <td>107.00</td>\n",
              "      <td>0</td>\n",
              "      <td>0</td>\n",
              "      <td>Check-Out</td>\n",
              "      <td>2015-07-17</td>\n",
              "    </tr>\n",
              "    <tr>\n",
              "      <td>422</td>\n",
              "      <td>Resort Hotel</td>\n",
              "      <td>0</td>\n",
              "      <td>57</td>\n",
              "      <td>2015</td>\n",
              "      <td>July</td>\n",
              "      <td>29</td>\n",
              "      <td>15</td>\n",
              "      <td>0</td>\n",
              "      <td>2</td>\n",
              "      <td>2</td>\n",
              "      <td>...</td>\n",
              "      <td>C</td>\n",
              "      <td>0</td>\n",
              "      <td>No Deposit</td>\n",
              "      <td>0</td>\n",
              "      <td>Transient-Party</td>\n",
              "      <td>98.75</td>\n",
              "      <td>0</td>\n",
              "      <td>0</td>\n",
              "      <td>Check-Out</td>\n",
              "      <td>2015-07-17</td>\n",
              "    </tr>\n",
              "    <tr>\n",
              "      <td>423</td>\n",
              "      <td>Resort Hotel</td>\n",
              "      <td>0</td>\n",
              "      <td>57</td>\n",
              "      <td>2015</td>\n",
              "      <td>July</td>\n",
              "      <td>29</td>\n",
              "      <td>15</td>\n",
              "      <td>0</td>\n",
              "      <td>2</td>\n",
              "      <td>3</td>\n",
              "      <td>...</td>\n",
              "      <td>C</td>\n",
              "      <td>1</td>\n",
              "      <td>No Deposit</td>\n",
              "      <td>0</td>\n",
              "      <td>Transient-Party</td>\n",
              "      <td>148.23</td>\n",
              "      <td>0</td>\n",
              "      <td>0</td>\n",
              "      <td>Check-Out</td>\n",
              "      <td>2015-07-17</td>\n",
              "    </tr>\n",
              "    <tr>\n",
              "      <td>425</td>\n",
              "      <td>Resort Hotel</td>\n",
              "      <td>0</td>\n",
              "      <td>57</td>\n",
              "      <td>2015</td>\n",
              "      <td>July</td>\n",
              "      <td>29</td>\n",
              "      <td>15</td>\n",
              "      <td>0</td>\n",
              "      <td>2</td>\n",
              "      <td>2</td>\n",
              "      <td>...</td>\n",
              "      <td>D</td>\n",
              "      <td>0</td>\n",
              "      <td>No Deposit</td>\n",
              "      <td>0</td>\n",
              "      <td>Transient</td>\n",
              "      <td>107.00</td>\n",
              "      <td>0</td>\n",
              "      <td>0</td>\n",
              "      <td>Check-Out</td>\n",
              "      <td>2015-07-17</td>\n",
              "    </tr>\n",
              "    <tr>\n",
              "      <td>426</td>\n",
              "      <td>Resort Hotel</td>\n",
              "      <td>0</td>\n",
              "      <td>57</td>\n",
              "      <td>2015</td>\n",
              "      <td>July</td>\n",
              "      <td>29</td>\n",
              "      <td>15</td>\n",
              "      <td>0</td>\n",
              "      <td>2</td>\n",
              "      <td>2</td>\n",
              "      <td>...</td>\n",
              "      <td>D</td>\n",
              "      <td>0</td>\n",
              "      <td>No Deposit</td>\n",
              "      <td>0</td>\n",
              "      <td>Transient</td>\n",
              "      <td>107.00</td>\n",
              "      <td>0</td>\n",
              "      <td>0</td>\n",
              "      <td>Check-Out</td>\n",
              "      <td>2015-07-17</td>\n",
              "    </tr>\n",
              "  </tbody>\n",
              "</table>\n",
              "<p>30 rows × 30 columns</p>\n",
              "</div>"
            ],
            "text/plain": [
              "            hotel  is_canceled  lead_time  arrival_date_year  \\\n",
              "4    Resort Hotel            0         14               2015   \n",
              "5    Resort Hotel            0         14               2015   \n",
              "21   Resort Hotel            0         72               2015   \n",
              "22   Resort Hotel            0         72               2015   \n",
              "39   Resort Hotel            0         70               2015   \n",
              "43   Resort Hotel            0         70               2015   \n",
              "132  Resort Hotel            1          5               2015   \n",
              "138  Resort Hotel            1          5               2015   \n",
              "198  Resort Hotel            0          0               2015   \n",
              "200  Resort Hotel            0          0               2015   \n",
              "218  Resort Hotel            1          1               2015   \n",
              "219  Resort Hotel            1          1               2015   \n",
              "250  Resort Hotel            0         91               2015   \n",
              "256  Resort Hotel            0         91               2015   \n",
              "260  Resort Hotel            0         30               2015   \n",
              "261  Resort Hotel            0         30               2015   \n",
              "350  Resort Hotel            0         98               2015   \n",
              "353  Resort Hotel            0         98               2015   \n",
              "366  Resort Hotel            0         40               2015   \n",
              "372  Resort Hotel            0         40               2015   \n",
              "413  Resort Hotel            0         57               2015   \n",
              "414  Resort Hotel            0         57               2015   \n",
              "415  Resort Hotel            0         57               2015   \n",
              "416  Resort Hotel            0         57               2015   \n",
              "417  Resort Hotel            0         57               2015   \n",
              "419  Resort Hotel            0         57               2015   \n",
              "422  Resort Hotel            0         57               2015   \n",
              "423  Resort Hotel            0         57               2015   \n",
              "425  Resort Hotel            0         57               2015   \n",
              "426  Resort Hotel            0         57               2015   \n",
              "\n",
              "    arrival_date_month  arrival_date_week_number  arrival_date_day_of_month  \\\n",
              "4                 July                        27                          1   \n",
              "5                 July                        27                          1   \n",
              "21                July                        27                          1   \n",
              "22                July                        27                          1   \n",
              "39                July                        27                          2   \n",
              "43                July                        27                          2   \n",
              "132               July                        28                          5   \n",
              "138               July                        28                          5   \n",
              "198               July                        28                          7   \n",
              "200               July                        28                          7   \n",
              "218               July                        28                          8   \n",
              "219               July                        28                          8   \n",
              "250               July                        28                         10   \n",
              "256               July                        28                         10   \n",
              "260               July                        28                         10   \n",
              "261               July                        28                         10   \n",
              "350               July                        29                         13   \n",
              "353               July                        29                         13   \n",
              "366               July                        29                         13   \n",
              "372               July                        29                         13   \n",
              "413               July                        29                         15   \n",
              "414               July                        29                         15   \n",
              "415               July                        29                         15   \n",
              "416               July                        29                         15   \n",
              "417               July                        29                         15   \n",
              "419               July                        29                         15   \n",
              "422               July                        29                         15   \n",
              "423               July                        29                         15   \n",
              "425               July                        29                         15   \n",
              "426               July                        29                         15   \n",
              "\n",
              "     stays_in_weekend_nights  stays_in_week_nights  adults  ...  \\\n",
              "4                          0                     2       2  ...   \n",
              "5                          0                     2       2  ...   \n",
              "21                         2                     4       2  ...   \n",
              "22                         2                     4       2  ...   \n",
              "39                         2                     3       2  ...   \n",
              "43                         2                     3       2  ...   \n",
              "132                        1                     0       2  ...   \n",
              "138                        1                     0       2  ...   \n",
              "198                        0                     1       1  ...   \n",
              "200                        0                     1       1  ...   \n",
              "218                        0                     1       2  ...   \n",
              "219                        0                     1       2  ...   \n",
              "250                        0                     2       2  ...   \n",
              "256                        0                     2       2  ...   \n",
              "260                        2                     2       2  ...   \n",
              "261                        2                     2       2  ...   \n",
              "350                        1                     1       2  ...   \n",
              "353                        1                     1       2  ...   \n",
              "366                        1                     4       2  ...   \n",
              "372                        1                     4       2  ...   \n",
              "413                        0                     2       2  ...   \n",
              "414                        0                     2       2  ...   \n",
              "415                        0                     2       2  ...   \n",
              "416                        0                     2       2  ...   \n",
              "417                        0                     2       2  ...   \n",
              "419                        0                     2       2  ...   \n",
              "422                        0                     2       2  ...   \n",
              "423                        0                     2       3  ...   \n",
              "425                        0                     2       2  ...   \n",
              "426                        0                     2       2  ...   \n",
              "\n",
              "     assigned_room_type  booking_changes deposit_type days_in_waiting_list  \\\n",
              "4                     A                0   No Deposit                    0   \n",
              "5                     A                0   No Deposit                    0   \n",
              "21                    A                1   No Deposit                    0   \n",
              "22                    A                1   No Deposit                    0   \n",
              "39                    E                0   No Deposit                    0   \n",
              "43                    E                0   No Deposit                    0   \n",
              "132                   D                0   No Deposit                    0   \n",
              "138                   D                0   No Deposit                    0   \n",
              "198                   A                0   No Deposit                    0   \n",
              "200                   A                0   No Deposit                    0   \n",
              "218                   A                0   No Deposit                    0   \n",
              "219                   A                0   No Deposit                    0   \n",
              "250                   A                0   No Deposit                    0   \n",
              "256                   A                0   No Deposit                    0   \n",
              "260                   F                0   No Deposit                    0   \n",
              "261                   F                0   No Deposit                    0   \n",
              "350                   A                0   No Deposit                    0   \n",
              "353                   A                0   No Deposit                    0   \n",
              "366                   D                0   No Deposit                    0   \n",
              "372                   D                0   No Deposit                    0   \n",
              "413                   C                0   No Deposit                    0   \n",
              "414                   A                0   No Deposit                    0   \n",
              "415                   A                0   No Deposit                    0   \n",
              "416                   C                0   No Deposit                    0   \n",
              "417                   D                0   No Deposit                    0   \n",
              "419                   A                0   No Deposit                    0   \n",
              "422                   C                0   No Deposit                    0   \n",
              "423                   C                1   No Deposit                    0   \n",
              "425                   D                0   No Deposit                    0   \n",
              "426                   D                0   No Deposit                    0   \n",
              "\n",
              "       customer_type     adr  required_car_parking_spaces  \\\n",
              "4          Transient   98.00                            0   \n",
              "5          Transient   98.00                            0   \n",
              "21         Transient   84.67                            0   \n",
              "22         Transient   84.67                            0   \n",
              "39         Transient  137.00                            0   \n",
              "43         Transient  137.00                            0   \n",
              "132        Transient   97.00                            0   \n",
              "138        Transient   97.00                            0   \n",
              "198        Transient  109.80                            0   \n",
              "200        Transient  109.80                            0   \n",
              "218        Transient  104.72                            0   \n",
              "219        Transient  104.72                            0   \n",
              "250        Transient   73.80                            0   \n",
              "256        Transient   73.80                            0   \n",
              "260  Transient-Party  197.00                            0   \n",
              "261  Transient-Party  197.00                            0   \n",
              "350  Transient-Party   82.00                            0   \n",
              "353  Transient-Party   82.00                            0   \n",
              "366        Transient  120.00                            0   \n",
              "372        Transient  120.00                            0   \n",
              "413  Transient-Party  107.00                            0   \n",
              "414  Transient-Party  107.00                            0   \n",
              "415  Transient-Party  107.00                            0   \n",
              "416  Transient-Party  107.00                            0   \n",
              "417        Transient  107.00                            0   \n",
              "419        Transient  107.00                            0   \n",
              "422  Transient-Party   98.75                            0   \n",
              "423  Transient-Party  148.23                            0   \n",
              "425        Transient  107.00                            0   \n",
              "426        Transient  107.00                            0   \n",
              "\n",
              "     total_of_special_requests  reservation_status reservation_status_date  \n",
              "4                            1           Check-Out              2015-07-03  \n",
              "5                            1           Check-Out              2015-07-03  \n",
              "21                           1           Check-Out              2015-07-07  \n",
              "22                           1           Check-Out              2015-07-07  \n",
              "39                           1           Check-Out              2015-07-07  \n",
              "43                           1           Check-Out              2015-07-07  \n",
              "132                          0            Canceled              2015-07-01  \n",
              "138                          0            Canceled              2015-07-01  \n",
              "198                          3           Check-Out              2015-07-08  \n",
              "200                          3           Check-Out              2015-07-08  \n",
              "218                          1            Canceled              2015-07-08  \n",
              "219                          1            Canceled              2015-07-08  \n",
              "250                          1           Check-Out              2015-07-12  \n",
              "256                          1           Check-Out              2015-07-12  \n",
              "260                          1           Check-Out              2015-07-14  \n",
              "261                          1           Check-Out              2015-07-14  \n",
              "350                          3           Check-Out              2015-07-15  \n",
              "353                          3           Check-Out              2015-07-15  \n",
              "366                          2           Check-Out              2015-07-18  \n",
              "372                          2           Check-Out              2015-07-18  \n",
              "413                          0           Check-Out              2015-07-17  \n",
              "414                          0           Check-Out              2015-07-17  \n",
              "415                          0           Check-Out              2015-07-17  \n",
              "416                          0           Check-Out              2015-07-17  \n",
              "417                          0           Check-Out              2015-07-17  \n",
              "419                          0           Check-Out              2015-07-17  \n",
              "422                          0           Check-Out              2015-07-17  \n",
              "423                          0           Check-Out              2015-07-17  \n",
              "425                          0           Check-Out              2015-07-17  \n",
              "426                          0           Check-Out              2015-07-17  \n",
              "\n",
              "[30 rows x 30 columns]"
            ]
          },
          "metadata": {
            "tags": []
          },
          "execution_count": 12
        }
      ]
    },
    {
      "cell_type": "markdown",
      "metadata": {
        "colab_type": "text",
        "id": "RPs-Cx8pvZiW"
      },
      "source": [
        "Above, we see a couple of examples of rows that are identical in all of their features values. If we look at the index, we can see that duplicated rows are literally contigous or very close to the first occurrence. The reason of this issue is unkown. "
      ]
    },
    {
      "cell_type": "code",
      "metadata": {
        "colab_type": "code",
        "id": "alNS_6uYvdrZ",
        "outputId": "13d96054-ff00-4845-ab58-f8019ddcd140",
        "colab": {
          "base_uri": "https://localhost:8080/",
          "height": 54
        }
      },
      "source": [
        "duplicateRowsDF = clnData[clnData.duplicated()] \n",
        "print(\"Quantity of duplicated Rows except first occurrence based on all columns are :\")\n",
        "len(duplicateRowsDF)"
      ],
      "execution_count": 0,
      "outputs": [
        {
          "output_type": "stream",
          "text": [
            "Quantity of duplicated Rows except first occurrence based on all columns are :\n"
          ],
          "name": "stdout"
        },
        {
          "output_type": "execute_result",
          "data": {
            "text/plain": [
              "32039"
            ]
          },
          "metadata": {
            "tags": []
          },
          "execution_count": 13
        }
      ]
    },
    {
      "cell_type": "markdown",
      "metadata": {
        "colab_type": "text",
        "id": "61YEImSivi_9"
      },
      "source": [
        "We have more than 32,000 records that are duplicated. Including them could essentially cause the models to overfit this subset of points, so we decided to drop them from our dataset. "
      ]
    },
    {
      "cell_type": "code",
      "metadata": {
        "colab_type": "code",
        "id": "XyNlbB2WvkCD",
        "colab": {}
      },
      "source": [
        "clnData = clnData.drop_duplicates()"
      ],
      "execution_count": 0,
      "outputs": []
    },
    {
      "cell_type": "markdown",
      "metadata": {
        "colab_type": "text",
        "id": "tLw_ZCHZvn2u"
      },
      "source": [
        "### Noise & Outliers"
      ]
    },
    {
      "cell_type": "code",
      "metadata": {
        "colab_type": "code",
        "id": "k61ZhZvOvwLE",
        "outputId": "0840e57a-aa81-4060-b71b-5b0aeed6f306",
        "colab": {
          "base_uri": "https://localhost:8080/",
          "height": 614
        }
      },
      "source": [
        "descriptive = clnData.describe()\n",
        "descriptive.transpose()"
      ],
      "execution_count": 0,
      "outputs": [
        {
          "output_type": "execute_result",
          "data": {
            "text/html": [
              "<div>\n",
              "<style scoped>\n",
              "    .dataframe tbody tr th:only-of-type {\n",
              "        vertical-align: middle;\n",
              "    }\n",
              "\n",
              "    .dataframe tbody tr th {\n",
              "        vertical-align: top;\n",
              "    }\n",
              "\n",
              "    .dataframe thead th {\n",
              "        text-align: right;\n",
              "    }\n",
              "</style>\n",
              "<table border=\"1\" class=\"dataframe\">\n",
              "  <thead>\n",
              "    <tr style=\"text-align: right;\">\n",
              "      <th></th>\n",
              "      <th>count</th>\n",
              "      <th>mean</th>\n",
              "      <th>std</th>\n",
              "      <th>min</th>\n",
              "      <th>25%</th>\n",
              "      <th>50%</th>\n",
              "      <th>75%</th>\n",
              "      <th>max</th>\n",
              "    </tr>\n",
              "  </thead>\n",
              "  <tbody>\n",
              "    <tr>\n",
              "      <td>is_canceled</td>\n",
              "      <td>87351.0</td>\n",
              "      <td>0.274983</td>\n",
              "      <td>0.446508</td>\n",
              "      <td>0.00</td>\n",
              "      <td>0.0</td>\n",
              "      <td>0.0</td>\n",
              "      <td>1.0</td>\n",
              "      <td>1.0</td>\n",
              "    </tr>\n",
              "    <tr>\n",
              "      <td>lead_time</td>\n",
              "      <td>87351.0</td>\n",
              "      <td>79.915090</td>\n",
              "      <td>86.058284</td>\n",
              "      <td>0.00</td>\n",
              "      <td>11.0</td>\n",
              "      <td>49.0</td>\n",
              "      <td>125.0</td>\n",
              "      <td>737.0</td>\n",
              "    </tr>\n",
              "    <tr>\n",
              "      <td>arrival_date_year</td>\n",
              "      <td>87351.0</td>\n",
              "      <td>2016.210290</td>\n",
              "      <td>0.686097</td>\n",
              "      <td>2015.00</td>\n",
              "      <td>2016.0</td>\n",
              "      <td>2016.0</td>\n",
              "      <td>2017.0</td>\n",
              "      <td>2017.0</td>\n",
              "    </tr>\n",
              "    <tr>\n",
              "      <td>arrival_date_week_number</td>\n",
              "      <td>87351.0</td>\n",
              "      <td>26.840322</td>\n",
              "      <td>13.673041</td>\n",
              "      <td>1.00</td>\n",
              "      <td>16.0</td>\n",
              "      <td>27.0</td>\n",
              "      <td>37.0</td>\n",
              "      <td>53.0</td>\n",
              "    </tr>\n",
              "    <tr>\n",
              "      <td>arrival_date_day_of_month</td>\n",
              "      <td>87351.0</td>\n",
              "      <td>15.815629</td>\n",
              "      <td>8.834814</td>\n",
              "      <td>1.00</td>\n",
              "      <td>8.0</td>\n",
              "      <td>16.0</td>\n",
              "      <td>23.0</td>\n",
              "      <td>31.0</td>\n",
              "    </tr>\n",
              "    <tr>\n",
              "      <td>stays_in_weekend_nights</td>\n",
              "      <td>87351.0</td>\n",
              "      <td>1.005541</td>\n",
              "      <td>1.032019</td>\n",
              "      <td>0.00</td>\n",
              "      <td>0.0</td>\n",
              "      <td>1.0</td>\n",
              "      <td>2.0</td>\n",
              "      <td>19.0</td>\n",
              "    </tr>\n",
              "    <tr>\n",
              "      <td>stays_in_week_nights</td>\n",
              "      <td>87351.0</td>\n",
              "      <td>2.625854</td>\n",
              "      <td>2.053793</td>\n",
              "      <td>0.00</td>\n",
              "      <td>1.0</td>\n",
              "      <td>2.0</td>\n",
              "      <td>4.0</td>\n",
              "      <td>50.0</td>\n",
              "    </tr>\n",
              "    <tr>\n",
              "      <td>adults</td>\n",
              "      <td>87351.0</td>\n",
              "      <td>1.875983</td>\n",
              "      <td>0.626504</td>\n",
              "      <td>0.00</td>\n",
              "      <td>2.0</td>\n",
              "      <td>2.0</td>\n",
              "      <td>2.0</td>\n",
              "      <td>55.0</td>\n",
              "    </tr>\n",
              "    <tr>\n",
              "      <td>children</td>\n",
              "      <td>87351.0</td>\n",
              "      <td>0.138705</td>\n",
              "      <td>0.455978</td>\n",
              "      <td>0.00</td>\n",
              "      <td>0.0</td>\n",
              "      <td>0.0</td>\n",
              "      <td>0.0</td>\n",
              "      <td>10.0</td>\n",
              "    </tr>\n",
              "    <tr>\n",
              "      <td>babies</td>\n",
              "      <td>87351.0</td>\n",
              "      <td>0.010807</td>\n",
              "      <td>0.113527</td>\n",
              "      <td>0.00</td>\n",
              "      <td>0.0</td>\n",
              "      <td>0.0</td>\n",
              "      <td>0.0</td>\n",
              "      <td>10.0</td>\n",
              "    </tr>\n",
              "    <tr>\n",
              "      <td>is_repeated_guest</td>\n",
              "      <td>87351.0</td>\n",
              "      <td>0.039095</td>\n",
              "      <td>0.193822</td>\n",
              "      <td>0.00</td>\n",
              "      <td>0.0</td>\n",
              "      <td>0.0</td>\n",
              "      <td>0.0</td>\n",
              "      <td>1.0</td>\n",
              "    </tr>\n",
              "    <tr>\n",
              "      <td>previous_cancellations</td>\n",
              "      <td>87351.0</td>\n",
              "      <td>0.030429</td>\n",
              "      <td>0.369240</td>\n",
              "      <td>0.00</td>\n",
              "      <td>0.0</td>\n",
              "      <td>0.0</td>\n",
              "      <td>0.0</td>\n",
              "      <td>26.0</td>\n",
              "    </tr>\n",
              "    <tr>\n",
              "      <td>previous_bookings_not_canceled</td>\n",
              "      <td>87351.0</td>\n",
              "      <td>0.184085</td>\n",
              "      <td>1.732335</td>\n",
              "      <td>0.00</td>\n",
              "      <td>0.0</td>\n",
              "      <td>0.0</td>\n",
              "      <td>0.0</td>\n",
              "      <td>72.0</td>\n",
              "    </tr>\n",
              "    <tr>\n",
              "      <td>booking_changes</td>\n",
              "      <td>87351.0</td>\n",
              "      <td>0.271708</td>\n",
              "      <td>0.727396</td>\n",
              "      <td>0.00</td>\n",
              "      <td>0.0</td>\n",
              "      <td>0.0</td>\n",
              "      <td>0.0</td>\n",
              "      <td>21.0</td>\n",
              "    </tr>\n",
              "    <tr>\n",
              "      <td>days_in_waiting_list</td>\n",
              "      <td>87351.0</td>\n",
              "      <td>0.749951</td>\n",
              "      <td>10.018296</td>\n",
              "      <td>0.00</td>\n",
              "      <td>0.0</td>\n",
              "      <td>0.0</td>\n",
              "      <td>0.0</td>\n",
              "      <td>391.0</td>\n",
              "    </tr>\n",
              "    <tr>\n",
              "      <td>adr</td>\n",
              "      <td>87351.0</td>\n",
              "      <td>106.351024</td>\n",
              "      <td>55.007304</td>\n",
              "      <td>-6.38</td>\n",
              "      <td>72.0</td>\n",
              "      <td>98.1</td>\n",
              "      <td>134.0</td>\n",
              "      <td>5400.0</td>\n",
              "    </tr>\n",
              "    <tr>\n",
              "      <td>required_car_parking_spaces</td>\n",
              "      <td>87351.0</td>\n",
              "      <td>0.084269</td>\n",
              "      <td>0.281599</td>\n",
              "      <td>0.00</td>\n",
              "      <td>0.0</td>\n",
              "      <td>0.0</td>\n",
              "      <td>0.0</td>\n",
              "      <td>8.0</td>\n",
              "    </tr>\n",
              "    <tr>\n",
              "      <td>total_of_special_requests</td>\n",
              "      <td>87351.0</td>\n",
              "      <td>0.698698</td>\n",
              "      <td>0.831981</td>\n",
              "      <td>0.00</td>\n",
              "      <td>0.0</td>\n",
              "      <td>0.0</td>\n",
              "      <td>1.0</td>\n",
              "      <td>5.0</td>\n",
              "    </tr>\n",
              "  </tbody>\n",
              "</table>\n",
              "</div>"
            ],
            "text/plain": [
              "                                  count         mean        std      min  \\\n",
              "is_canceled                     87351.0     0.274983   0.446508     0.00   \n",
              "lead_time                       87351.0    79.915090  86.058284     0.00   \n",
              "arrival_date_year               87351.0  2016.210290   0.686097  2015.00   \n",
              "arrival_date_week_number        87351.0    26.840322  13.673041     1.00   \n",
              "arrival_date_day_of_month       87351.0    15.815629   8.834814     1.00   \n",
              "stays_in_weekend_nights         87351.0     1.005541   1.032019     0.00   \n",
              "stays_in_week_nights            87351.0     2.625854   2.053793     0.00   \n",
              "adults                          87351.0     1.875983   0.626504     0.00   \n",
              "children                        87351.0     0.138705   0.455978     0.00   \n",
              "babies                          87351.0     0.010807   0.113527     0.00   \n",
              "is_repeated_guest               87351.0     0.039095   0.193822     0.00   \n",
              "previous_cancellations          87351.0     0.030429   0.369240     0.00   \n",
              "previous_bookings_not_canceled  87351.0     0.184085   1.732335     0.00   \n",
              "booking_changes                 87351.0     0.271708   0.727396     0.00   \n",
              "days_in_waiting_list            87351.0     0.749951  10.018296     0.00   \n",
              "adr                             87351.0   106.351024  55.007304    -6.38   \n",
              "required_car_parking_spaces     87351.0     0.084269   0.281599     0.00   \n",
              "total_of_special_requests       87351.0     0.698698   0.831981     0.00   \n",
              "\n",
              "                                   25%     50%     75%     max  \n",
              "is_canceled                        0.0     0.0     1.0     1.0  \n",
              "lead_time                         11.0    49.0   125.0   737.0  \n",
              "arrival_date_year               2016.0  2016.0  2017.0  2017.0  \n",
              "arrival_date_week_number          16.0    27.0    37.0    53.0  \n",
              "arrival_date_day_of_month          8.0    16.0    23.0    31.0  \n",
              "stays_in_weekend_nights            0.0     1.0     2.0    19.0  \n",
              "stays_in_week_nights               1.0     2.0     4.0    50.0  \n",
              "adults                             2.0     2.0     2.0    55.0  \n",
              "children                           0.0     0.0     0.0    10.0  \n",
              "babies                             0.0     0.0     0.0    10.0  \n",
              "is_repeated_guest                  0.0     0.0     0.0     1.0  \n",
              "previous_cancellations             0.0     0.0     0.0    26.0  \n",
              "previous_bookings_not_canceled     0.0     0.0     0.0    72.0  \n",
              "booking_changes                    0.0     0.0     0.0    21.0  \n",
              "days_in_waiting_list               0.0     0.0     0.0   391.0  \n",
              "adr                               72.0    98.1   134.0  5400.0  \n",
              "required_car_parking_spaces        0.0     0.0     0.0     8.0  \n",
              "total_of_special_requests          0.0     0.0     1.0     5.0  "
            ]
          },
          "metadata": {
            "tags": []
          },
          "execution_count": 15
        }
      ]
    },
    {
      "cell_type": "markdown",
      "metadata": {
        "colab_type": "text",
        "id": "_7VA7GszkzLr"
      },
      "source": [
        "Above we can see that **27% out of the dataset canceled the booking**. We can also see that it is very propable that we need to deal with outliers in various features like 'lead_time', 'stays_in_week_nights', 'adults', 'babies', 'previous_cancellations', 'adr', etc. Also, we can see that 'adr'(Average Daily Rate) has a negative value that we'll deal in the next section. "
      ]
    },
    {
      "cell_type": "markdown",
      "metadata": {
        "colab_type": "text",
        "id": "HMbqX0qqhH1p"
      },
      "source": [
        "#### Lead time, week and weekend nights"
      ]
    },
    {
      "cell_type": "code",
      "metadata": {
        "colab_type": "code",
        "id": "IvEBPjvdhLa2",
        "outputId": "1d87a1c8-b930-4afd-8a22-ece14fa20f2a",
        "colab": {
          "base_uri": "https://localhost:8080/",
          "height": 361
        }
      },
      "source": [
        "f, axes = plt.subplots(1, 3,figsize=(20,5))\n",
        "sns.boxplot(y=clnData['lead_time'], ax=axes[0])\n",
        "sns.boxplot(y=clnData['stays_in_weekend_nights'], ax=axes[1])\n",
        "sns.boxplot(y=clnData['stays_in_week_nights'], ax=axes[2])\n",
        "\n",
        "print('More than 300 days of lead time: ' , len(clnData[clnData.lead_time>300]))\n",
        "print('More than 5 days in weekend nights: ' , len(clnData[clnData.stays_in_weekend_nights>5]))\n",
        "print('More than 10 days on week nights: ' , len(clnData[clnData.stays_in_week_nights>10]))"
      ],
      "execution_count": 0,
      "outputs": [
        {
          "output_type": "stream",
          "text": [
            "More than 300 days of lead time:  2286\n",
            "More than 5 days in weekend nights:  220\n",
            "More than 10 days on week nights:  340\n"
          ],
          "name": "stdout"
        },
        {
          "output_type": "display_data",
          "data": {
            "image/png": "[encoded data removed]",
            "text/plain": [
              "<Figure size 1440x360 with 3 Axes>"
            ]
          },
          "metadata": {
            "tags": [],
            "needs_background": "light"
          }
        }
      ]
    },
    {
      "cell_type": "markdown",
      "metadata": {
        "colab_type": "text",
        "id": "Gbm8auN7hRv9"
      },
      "source": [
        "We see that more than 300 days on lead_time is considered an outlier, but we think this level of noise is acceptable, so we decided to leave them as they are. This also applies for week and weekend nights."
      ]
    },
    {
      "cell_type": "markdown",
      "metadata": {
        "colab_type": "text",
        "id": "48_Ah-Auhwcq"
      },
      "source": [
        "#### Adults, children and babies "
      ]
    },
    {
      "cell_type": "code",
      "metadata": {
        "colab_type": "code",
        "id": "yBKsvr48hzBv",
        "outputId": "44fea474-4814-45b9-e49e-f5674b52ad3f",
        "colab": {
          "base_uri": "https://localhost:8080/",
          "height": 324
        }
      },
      "source": [
        "f, axes = plt.subplots(1, 3,figsize=(20,5))\n",
        "sns.boxplot(y=clnData['adults'], ax=axes[0])\n",
        "sns.boxplot(y=clnData['children'], ax=axes[1])\n",
        "sns.boxplot(y=clnData['babies'], ax=axes[2])"
      ],
      "execution_count": 0,
      "outputs": [
        {
          "output_type": "execute_result",
          "data": {
            "text/plain": [
              "<matplotlib.axes._subplots.AxesSubplot at 0x263b9768348>"
            ]
          },
          "metadata": {
            "tags": []
          },
          "execution_count": 17
        },
        {
          "output_type": "display_data",
          "data": {
            "image/png": "[encoded data removed]",
            "text/plain": [
              "<Figure size 1440x360 with 3 Axes>"
            ]
          },
          "metadata": {
            "tags": [],
            "needs_background": "light"
          }
        }
      ]
    },
    {
      "cell_type": "code",
      "metadata": {
        "colab_type": "code",
        "id": "xkPpMmNFhS4p",
        "colab": {}
      },
      "source": [
        "clnData = clnData[clnData['adults']<=6]\n",
        "clnData = clnData[clnData['children']<=4]\n",
        "clnData = clnData[clnData['babies']<=4]"
      ],
      "execution_count": 0,
      "outputs": []
    },
    {
      "cell_type": "markdown",
      "metadata": {
        "colab_type": "text",
        "id": "jBqZ4FKoiufi"
      },
      "source": [
        "We decided to top the number of adults up to 6 (2 adults + 4 adults or teens). We see that there's a booking with 10 children that may be due to an error, so we decided to top this feature up to 4 children. We applied this also to the 'babies' feature.  "
      ]
    },
    {
      "cell_type": "markdown",
      "metadata": {
        "colab_type": "text",
        "id": "eaW7qhgDiyN1"
      },
      "source": [
        "#### Previous cancellations, previous booking not canceled, booking changes and days in waiting list"
      ]
    },
    {
      "cell_type": "code",
      "metadata": {
        "colab_type": "code",
        "id": "mIlmX-tpi1th",
        "outputId": "fb87ba4d-c2c4-4451-9298-8f8a575d20ea",
        "colab": {
          "base_uri": "https://localhost:8080/",
          "height": 379
        }
      },
      "source": [
        "f, axes = plt.subplots(1, 4,figsize=(20,5))\n",
        "sns.boxplot(y=clnData['previous_cancellations'], ax=axes[0])\n",
        "sns.boxplot(y=clnData['previous_bookings_not_canceled'], ax=axes[1])\n",
        "sns.boxplot(y=clnData['booking_changes'], ax=axes[2])\n",
        "sns.boxplot(y=clnData['days_in_waiting_list'], ax=axes[3])\n",
        "\n",
        "print('More than 1 previous cancellations: ' , len(clnData[clnData.previous_cancellations>0]))\n",
        "print('More than 1 previous bookings not canceled: ' , len(clnData[clnData.previous_bookings_not_canceled>0]))\n",
        "print('More than 1 booking changes: ' , len(clnData[clnData.booking_changes>0]))\n",
        "print('More than 1 days in waiting list: ' , len(clnData[clnData.days_in_waiting_list>0]))"
      ],
      "execution_count": 0,
      "outputs": [
        {
          "output_type": "stream",
          "text": [
            "More than 1 previous cancellations:  1685\n",
            "More than 1 previous bookings not canceled:  3545\n",
            "More than 1 booking changes:  15895\n",
            "More than 1 days in waiting list:  860\n"
          ],
          "name": "stdout"
        },
        {
          "output_type": "display_data",
          "data": {
            "image/png": "[encoded data removed]",
            "text/plain": [
              "<Figure size 1440x360 with 4 Axes>"
            ]
          },
          "metadata": {
            "tags": [],
            "needs_background": "light"
          }
        }
      ]
    },
    {
      "cell_type": "markdown",
      "metadata": {
        "colab_type": "text",
        "id": "AjwHrhGui69r"
      },
      "source": [
        "We decided to leave the outliers in this features. Removing them would be equal to drop the whole features.  "
      ]
    },
    {
      "cell_type": "markdown",
      "metadata": {
        "colab_type": "text",
        "id": "bXsxYUHyjC5r"
      },
      "source": [
        "#### Average Daily Rate "
      ]
    },
    {
      "cell_type": "code",
      "metadata": {
        "colab_type": "code",
        "id": "OyqUU42MjFII",
        "outputId": "9b6082c3-6487-4b14-ec0f-479f751276a6",
        "colab": {
          "base_uri": "https://localhost:8080/",
          "height": 270
        }
      },
      "source": [
        "sns.boxplot(y=clnData['adr'])"
      ],
      "execution_count": 0,
      "outputs": [
        {
          "output_type": "execute_result",
          "data": {
            "text/plain": [
              "<matplotlib.axes._subplots.AxesSubplot at 0x263b909e288>"
            ]
          },
          "metadata": {
            "tags": []
          },
          "execution_count": 20
        },
        {
          "output_type": "display_data",
          "data": {
            "image/png": "[encoded data removed]",
            "text/plain": [
              "<Figure size 432x288 with 1 Axes>"
            ]
          },
          "metadata": {
            "tags": [],
            "needs_background": "light"
          }
        }
      ]
    },
    {
      "cell_type": "markdown",
      "metadata": {
        "colab_type": "text",
        "id": "lyy8IzoVjLF5"
      },
      "source": [
        "There is a clearly anomaly in 'adr' so we will delete it and see the rest of the plot more clearly. "
      ]
    },
    {
      "cell_type": "code",
      "metadata": {
        "colab_type": "code",
        "id": "Qahp311PjL_y",
        "outputId": "1abc9b80-59a5-48c1-f613-9cd9477534bd",
        "colab": {
          "base_uri": "https://localhost:8080/",
          "height": 270
        }
      },
      "source": [
        "clnData = clnData[clnData.adr<1000]\n",
        "sns.boxplot(y=clnData['adr'])\n",
        "print('Daily rates above 250: ' , len(clnData[clnData.adr>250]))"
      ],
      "execution_count": 0,
      "outputs": [
        {
          "output_type": "stream",
          "text": [
            "Daily rates above 250:  1216\n"
          ],
          "name": "stdout"
        },
        {
          "output_type": "display_data",
          "data": {
            "image/png": "[encoded data removed]",
            "text/plain": [
              "<Figure size 432x288 with 1 Axes>"
            ]
          },
          "metadata": {
            "tags": [],
            "needs_background": "light"
          }
        }
      ]
    },
    {
      "cell_type": "markdown",
      "metadata": {
        "colab_type": "text",
        "id": "pogK9paAjR1k"
      },
      "source": [
        "We are going to leave the outliers because they appear feasible due to special requests. "
      ]
    },
    {
      "cell_type": "markdown",
      "metadata": {
        "colab_type": "text",
        "id": "X5-p5OFwjUfv"
      },
      "source": [
        "### Errors / Inconsistent Values"
      ]
    },
    {
      "cell_type": "code",
      "metadata": {
        "colab_type": "code",
        "id": "_czwjqq-jYcr",
        "outputId": "455aa3b7-26db-439e-d7bb-81f083a5d35e",
        "colab": {
          "base_uri": "https://localhost:8080/",
          "height": 35
        }
      },
      "source": [
        "print('There are ',len(clnData[(clnData.adults == 0) & (clnData.children == 0)]), ' bookings with no guests')\n",
        "clnData = clnData.drop(clnData[(clnData.adults == 0) & (clnData.children == 0)].index)"
      ],
      "execution_count": 0,
      "outputs": [
        {
          "output_type": "stream",
          "text": [
            "There are  166  bookings with no guests\n"
          ],
          "name": "stdout"
        }
      ]
    },
    {
      "cell_type": "markdown",
      "metadata": {
        "colab_type": "text",
        "id": "XjKVB-QOjglN"
      },
      "source": [
        "We deleted this bookings with no guests. \n",
        "\n",
        "As stated before, there were a booking with a negative value in 'adr' that we need to get rid off. "
      ]
    },
    {
      "cell_type": "code",
      "metadata": {
        "colab_type": "code",
        "id": "sHIBUnCnjvgy",
        "outputId": "96adc9ac-1988-47f9-db2d-31e5c1453b01",
        "colab": {
          "base_uri": "https://localhost:8080/",
          "height": 118
        }
      },
      "source": [
        "clnData[clnData.adr<0]"
      ],
      "execution_count": 0,
      "outputs": [
        {
          "output_type": "execute_result",
          "data": {
            "text/html": [
              "<div>\n",
              "<style scoped>\n",
              "    .dataframe tbody tr th:only-of-type {\n",
              "        vertical-align: middle;\n",
              "    }\n",
              "\n",
              "    .dataframe tbody tr th {\n",
              "        vertical-align: top;\n",
              "    }\n",
              "\n",
              "    .dataframe thead th {\n",
              "        text-align: right;\n",
              "    }\n",
              "</style>\n",
              "<table border=\"1\" class=\"dataframe\">\n",
              "  <thead>\n",
              "    <tr style=\"text-align: right;\">\n",
              "      <th></th>\n",
              "      <th>hotel</th>\n",
              "      <th>is_canceled</th>\n",
              "      <th>lead_time</th>\n",
              "      <th>arrival_date_year</th>\n",
              "      <th>arrival_date_month</th>\n",
              "      <th>arrival_date_week_number</th>\n",
              "      <th>arrival_date_day_of_month</th>\n",
              "      <th>stays_in_weekend_nights</th>\n",
              "      <th>stays_in_week_nights</th>\n",
              "      <th>adults</th>\n",
              "      <th>...</th>\n",
              "      <th>assigned_room_type</th>\n",
              "      <th>booking_changes</th>\n",
              "      <th>deposit_type</th>\n",
              "      <th>days_in_waiting_list</th>\n",
              "      <th>customer_type</th>\n",
              "      <th>adr</th>\n",
              "      <th>required_car_parking_spaces</th>\n",
              "      <th>total_of_special_requests</th>\n",
              "      <th>reservation_status</th>\n",
              "      <th>reservation_status_date</th>\n",
              "    </tr>\n",
              "  </thead>\n",
              "  <tbody>\n",
              "    <tr>\n",
              "      <td>14969</td>\n",
              "      <td>Resort Hotel</td>\n",
              "      <td>0</td>\n",
              "      <td>195</td>\n",
              "      <td>2017</td>\n",
              "      <td>March</td>\n",
              "      <td>10</td>\n",
              "      <td>5</td>\n",
              "      <td>4</td>\n",
              "      <td>6</td>\n",
              "      <td>2</td>\n",
              "      <td>...</td>\n",
              "      <td>H</td>\n",
              "      <td>2</td>\n",
              "      <td>No Deposit</td>\n",
              "      <td>0</td>\n",
              "      <td>Transient-Party</td>\n",
              "      <td>-6.38</td>\n",
              "      <td>0</td>\n",
              "      <td>0</td>\n",
              "      <td>Check-Out</td>\n",
              "      <td>2017-03-15</td>\n",
              "    </tr>\n",
              "  </tbody>\n",
              "</table>\n",
              "<p>1 rows × 30 columns</p>\n",
              "</div>"
            ],
            "text/plain": [
              "              hotel  is_canceled  lead_time  arrival_date_year  \\\n",
              "14969  Resort Hotel            0        195               2017   \n",
              "\n",
              "      arrival_date_month  arrival_date_week_number  arrival_date_day_of_month  \\\n",
              "14969              March                        10                          5   \n",
              "\n",
              "       stays_in_weekend_nights  stays_in_week_nights  adults  ...  \\\n",
              "14969                        4                     6       2  ...   \n",
              "\n",
              "       assigned_room_type  booking_changes deposit_type days_in_waiting_list  \\\n",
              "14969                   H                2   No Deposit                    0   \n",
              "\n",
              "         customer_type   adr  required_car_parking_spaces  \\\n",
              "14969  Transient-Party -6.38                            0   \n",
              "\n",
              "       total_of_special_requests  reservation_status reservation_status_date  \n",
              "14969                          0           Check-Out              2017-03-15  \n",
              "\n",
              "[1 rows x 30 columns]"
            ]
          },
          "metadata": {
            "tags": []
          },
          "execution_count": 23
        }
      ]
    },
    {
      "cell_type": "code",
      "metadata": {
        "colab_type": "code",
        "id": "uhiJTNnsjyKY",
        "outputId": "4e6bd8f0-06a8-482a-f61f-975342ffc562",
        "colab": {
          "base_uri": "https://localhost:8080/",
          "height": 35
        }
      },
      "source": [
        "clnData = clnData[clnData.adr>=0]\n",
        "clnData.shape"
      ],
      "execution_count": 0,
      "outputs": [
        {
          "output_type": "execute_result",
          "data": {
            "text/plain": [
              "(87167, 30)"
            ]
          },
          "metadata": {
            "tags": []
          },
          "execution_count": 24
        }
      ]
    },
    {
      "cell_type": "markdown",
      "metadata": {
        "colab_type": "text",
        "id": "yE-E8vygj2PV"
      },
      "source": [
        "After all the data preprocessing, our datased ended with 87,167 records. "
      ]
    },
    {
      "cell_type": "markdown",
      "metadata": {
        "colab_type": "text",
        "id": "ghIY6gYAvwa5"
      },
      "source": [
        "# Data Exploration"
      ]
    },
    {
      "cell_type": "markdown",
      "metadata": {
        "colab_type": "text",
        "id": "zvX3xBbGkA4d"
      },
      "source": [
        "## Arrived vs Canceled bookings"
      ]
    },
    {
      "cell_type": "code",
      "metadata": {
        "colab_type": "code",
        "id": "dNlcyBl3kCCE",
        "outputId": "eeab7507-3fe0-47a5-a152-3fea60261fcb",
        "colab": {
          "base_uri": "https://localhost:8080/",
          "height": 248
        }
      },
      "source": [
        "labels = 'Arrived', 'Canceled'\n",
        "sizes = [len(clnData[clnData.is_canceled==0]),len(clnData[clnData.is_canceled==1]),  ]\n",
        "explode = (0, 0.1,) \n",
        "\n",
        "fig1, ax1 = plt.subplots()\n",
        "ax1.pie(sizes, explode=explode, labels=labels, autopct='%1.1f%%',\n",
        "        shadow=True, startangle=90)\n",
        "ax1.axis('equal')\n",
        "\n",
        "plt.show()"
      ],
      "execution_count": 0,
      "outputs": [
        {
          "output_type": "display_data",
          "data": {
            "image/png": "[encoded data removed]",
            "text/plain": [
              "<Figure size 432x288 with 1 Axes>"
            ]
          },
          "metadata": {
            "tags": []
          }
        }
      ]
    },
    {
      "cell_type": "markdown",
      "metadata": {
        "colab_type": "text",
        "id": "4KZ0nz91kK36"
      },
      "source": [
        "As said before, 27.5% of the bookings were canceled. We can say that this class labe is slightly imabalanced which is not a concern. We can treat this problem like a normal classification predictive modeling problem.  "
      ]
    },
    {
      "cell_type": "code",
      "metadata": {
        "colab_type": "code",
        "id": "BO_kHCJevwbG",
        "outputId": "cb259458-d739-4dad-b525-ce8fa39b3452",
        "colab": {
          "base_uri": "https://localhost:8080/",
          "height": 319
        }
      },
      "source": [
        "cityHotel = clnData[clnData['hotel']=='City Hotel']\n",
        "sizesCity = [len(cityHotel[cityHotel.is_canceled==0]),len(cityHotel[cityHotel.is_canceled==1]),  ]\n",
        "\n",
        "resortHotel = clnData[clnData['hotel']=='Resort Hotel']\n",
        "sizesResort = [len(resortHotel[resortHotel.is_canceled==0]),len(resortHotel[resortHotel.is_canceled==1]),  ]\n",
        "\n",
        "explode = (0, 0.1,) \n",
        "f, axes = plt.subplots(1, 2,figsize=(20,5))\n",
        "\n",
        "axes[0].pie(sizesCity, explode=explode, labels=labels, autopct='%1.1f%%', shadow=True, startangle=90)\n",
        "axes[0].axis('equal')  \n",
        "\n",
        "axes[1].pie(sizesResort, explode=explode, labels=labels, autopct='%1.1f%%', shadow=True, startangle=90)\n",
        "axes[1].axis('equal') \n",
        "\n",
        "axes[0].set_title('City Hotel')\n",
        "axes[1].set_title('Resort Hotel')\n",
        "plt.show()"
      ],
      "execution_count": 0,
      "outputs": [
        {
          "output_type": "display_data",
          "data": {
            "image/png": "[encoded data removed]",
            "text/plain": [
              "<Figure size 1440x360 with 2 Axes>"
            ]
          },
          "metadata": {
            "tags": []
          }
        }
      ]
    },
    {
      "cell_type": "markdown",
      "metadata": {
        "colab_type": "text",
        "id": "9Z6_ozmHkX6v"
      },
      "source": [
        "The proportion between canceled bookings and arrived booking only differ by 7% in both hotels."
      ]
    },
    {
      "cell_type": "markdown",
      "metadata": {
        "colab_type": "text",
        "id": "FIDcJFEMkcIM"
      },
      "source": [
        "## Bookings by month  and lead time"
      ]
    },
    {
      "cell_type": "code",
      "metadata": {
        "colab_type": "code",
        "id": "lmGZETBakeoN",
        "outputId": "d96e175c-1a6e-497f-c68e-87d0d3620670",
        "colab": {
          "base_uri": "https://localhost:8080/",
          "height": 296
        }
      },
      "source": [
        "arrived = 'arrived'\n",
        "canceled = 'canceled'\n",
        "fig, axes = plt.subplots(nrows=1, ncols=2,figsize=(15, 4))\n",
        "plt.ylim(0, 5000)\n",
        "cityHotel = clnData[clnData['hotel']=='City Hotel']\n",
        "resortHotel = clnData[clnData['hotel']=='Resort Hotel']\n",
        "d = {'January':1, 'February':2, 'March':3, 'April':4, 'May':5, 'June':6, 'July':7,'August':8, 'September':9, 'October':10, 'November':11, 'December':12}\n",
        "cityHotel.arrival_date_month = cityHotel.arrival_date_month.map(d)\n",
        "resortHotel.arrival_date_month = resortHotel.arrival_date_month.map(d)\n",
        "ax = sns.distplot(cityHotel[cityHotel['is_canceled']==0].arrival_date_month, bins=12, label = arrived, ax = axes[0], kde =False)\n",
        "ax = sns.distplot(cityHotel[cityHotel['is_canceled']==1].arrival_date_month, bins=12, label = canceled, ax = axes[0], kde =False)\n",
        "ax.legend()\n",
        "ax.set_title('City Hotel')\n",
        "ax = sns.distplot(resortHotel[resortHotel['is_canceled']==0].arrival_date_month, bins=12, label = arrived, ax = axes[1], kde =False)\n",
        "ax = sns.distplot(resortHotel[resortHotel['is_canceled']==1].arrival_date_month, bins=12, label = canceled, ax = axes[1], kde =False)\n",
        "ax.legend()\n",
        "_ = ax.set_title('Resort Hotel')"
      ],
      "execution_count": 0,
      "outputs": [
        {
          "output_type": "display_data",
          "data": {
            "image/png": "[encoded data removed]",
            "text/plain": [
              "<Figure size 1080x288 with 2 Axes>"
            ]
          },
          "metadata": {
            "tags": [],
            "needs_background": "light"
          }
        }
      ]
    },
    {
      "cell_type": "markdown",
      "metadata": {
        "colab_type": "text",
        "id": "81Ym1hJLklml"
      },
      "source": [
        "We can see that City Hotel has a higher probability of getting a booking cancelled between April and August while Resort Hotel has a higher probabilty of getting a booking cancel only from July to August which also coincides with their top months of bookings. "
      ]
    },
    {
      "cell_type": "code",
      "metadata": {
        "colab_type": "code",
        "id": "1hIox8arvwbL",
        "outputId": "76fa2f4f-ccf0-4e41-94c4-407055eb976e",
        "colab": {
          "base_uri": "https://localhost:8080/",
          "height": 296
        }
      },
      "source": [
        "fig, axes = plt.subplots(nrows=1, ncols=2,figsize=(15, 4))\n",
        "ax = sns.distplot(cityHotel[cityHotel['is_canceled']==0].lead_time, bins=12, label = arrived, ax = axes[0], kde =False)\n",
        "ax = sns.distplot(cityHotel[cityHotel['is_canceled']==1].lead_time, bins=12, label = canceled, ax = axes[0], kde =False)\n",
        "ax.legend()\n",
        "ax.set_title('City Hotel')\n",
        "ax = sns.distplot(resortHotel[resortHotel['is_canceled']==0].lead_time, bins=12, label = arrived, ax = axes[1], kde =False)\n",
        "ax = sns.distplot(resortHotel[resortHotel['is_canceled']==1].lead_time, bins=12, label = canceled, ax = axes[1], kde =False)\n",
        "ax.legend()\n",
        "_ = ax.set_title('Resort Hotel')"
      ],
      "execution_count": 0,
      "outputs": [
        {
          "output_type": "display_data",
          "data": {
            "image/png": "[encoded data removed]",
            "text/plain": [
              "<Figure size 1080x288 with 2 Axes>"
            ]
          },
          "metadata": {
            "tags": [],
            "needs_background": "light"
          }
        }
      ]
    },
    {
      "cell_type": "markdown",
      "metadata": {
        "colab_type": "text",
        "id": "uWs42R_1kp7j"
      },
      "source": [
        "Also the probability of booking and canceling decrease exponentially after 50 days of lead time prior the date of arrival.  "
      ]
    },
    {
      "cell_type": "markdown",
      "metadata": {
        "colab_type": "text",
        "id": "TAVIGYSekvIN"
      },
      "source": [
        "## Bookings by ADR "
      ]
    },
    {
      "cell_type": "code",
      "metadata": {
        "colab_type": "code",
        "id": "WUEPoDPmkwbq",
        "outputId": "ee2c855f-67bd-48c5-adc6-69c834480f85",
        "colab": {
          "base_uri": "https://localhost:8080/",
          "height": 295
        }
      },
      "source": [
        "fig, axes = plt.subplots(nrows=1, ncols=2,figsize=(15, 4))\n",
        "plt.ylim(0, 16000)\n",
        "ax = sns.distplot(cityHotel[cityHotel['is_canceled']==0].adr, bins=12, label = arrived, ax = axes[0], kde =False)\n",
        "ax = sns.distplot(cityHotel[cityHotel['is_canceled']==1].adr, bins=12, label = canceled, ax = axes[0], kde =False)\n",
        "ax.legend()\n",
        "ax.set_title('City Hotel')\n",
        "ax = sns.distplot(resortHotel[resortHotel['is_canceled']==0].adr, bins=12, label = arrived, ax = axes[1], kde =False)\n",
        "ax = sns.distplot(resortHotel[resortHotel['is_canceled']==1].adr, bins=12, label = canceled, ax = axes[1], kde =False)\n",
        "ax.legend()\n",
        "_ = ax.set_title('Resort Hotel')"
      ],
      "execution_count": 0,
      "outputs": [
        {
          "output_type": "display_data",
          "data": {
            "image/png": "[encoded data removed]",
            "text/plain": [
              "<Figure size 1080x288 with 2 Axes>"
            ]
          },
          "metadata": {
            "tags": [],
            "needs_background": "light"
          }
        }
      ]
    },
    {
      "cell_type": "markdown",
      "metadata": {
        "colab_type": "text",
        "id": "BZ5XCcj2k14f"
      },
      "source": [
        "We can see that in both plots, there are minimun cancelations for low adr (0-50), and that the peak rate ranges from (50-150) "
      ]
    },
    {
      "cell_type": "markdown",
      "metadata": {
        "colab_type": "text",
        "id": "f3ntlkxMk73S"
      },
      "source": [
        "## Deposit type"
      ]
    },
    {
      "cell_type": "code",
      "metadata": {
        "colab_type": "code",
        "id": "4SqIFg3wk83f",
        "outputId": "ee95e7b9-59a4-4c60-8457-ff46c19f70a8",
        "colab": {
          "base_uri": "https://localhost:8080/",
          "height": 280
        }
      },
      "source": [
        "ax= sns.pointplot(x=\"deposit_type\", y=\"is_canceled\", hue='hotel' ,data=clnData)"
      ],
      "execution_count": 0,
      "outputs": [
        {
          "output_type": "display_data",
          "data": {
            "image/png": "[encoded data removed]",
            "text/plain": [
              "<Figure size 432x288 with 1 Axes>"
            ]
          },
          "metadata": {
            "tags": [],
            "needs_background": "light"
          }
        }
      ]
    },
    {
      "cell_type": "markdown",
      "metadata": {
        "colab_type": "text",
        "id": "hsJ2f_-Hk_PC"
      },
      "source": [
        "Deposit type seems to be correlated with booking cancelations on both hotels. Refundable deposit has a higher chance of being canceled on City hotels bookings. "
      ]
    },
    {
      "cell_type": "markdown",
      "metadata": {
        "colab_type": "text",
        "id": "RTGRNL9qvwbN"
      },
      "source": [
        "# Feature Engineering"
      ]
    },
    {
      "cell_type": "code",
      "metadata": {
        "colab_type": "code",
        "id": "7F24WwsMvwbN",
        "outputId": "3a137a88-bdb1-410c-8a55-7905fbc37746",
        "colab": {
          "base_uri": "https://localhost:8080/",
          "height": 586
        }
      },
      "source": [
        "clnData\n",
        "fe_clnData = clnData\n",
        "fe_clnData.dtypes"
      ],
      "execution_count": 0,
      "outputs": [
        {
          "output_type": "execute_result",
          "data": {
            "text/plain": [
              "hotel                              object\n",
              "is_canceled                         int64\n",
              "lead_time                           int64\n",
              "arrival_date_year                   int64\n",
              "arrival_date_month                 object\n",
              "arrival_date_week_number            int64\n",
              "arrival_date_day_of_month           int64\n",
              "stays_in_weekend_nights             int64\n",
              "stays_in_week_nights                int64\n",
              "adults                              int64\n",
              "children                          float64\n",
              "babies                              int64\n",
              "meal                               object\n",
              "country                            object\n",
              "market_segment                     object\n",
              "distribution_channel               object\n",
              "is_repeated_guest                   int64\n",
              "previous_cancellations              int64\n",
              "previous_bookings_not_canceled      int64\n",
              "reserved_room_type                 object\n",
              "assigned_room_type                 object\n",
              "booking_changes                     int64\n",
              "deposit_type                       object\n",
              "days_in_waiting_list                int64\n",
              "customer_type                      object\n",
              "adr                               float64\n",
              "required_car_parking_spaces         int64\n",
              "total_of_special_requests           int64\n",
              "reservation_status                 object\n",
              "reservation_status_date            object\n",
              "dtype: object"
            ]
          },
          "metadata": {
            "tags": []
          },
          "execution_count": 31
        }
      ]
    },
    {
      "cell_type": "markdown",
      "metadata": {
        "colab_type": "text",
        "id": "XFMqJWGZ4Ece"
      },
      "source": [
        "Looking at the dataset above, we have much work to do in order to eliminate categorical data."
      ]
    },
    {
      "cell_type": "markdown",
      "metadata": {
        "colab_type": "text",
        "id": "cjHJyiEKN1RR"
      },
      "source": [
        "## Drop Features"
      ]
    },
    {
      "cell_type": "markdown",
      "metadata": {
        "colab_type": "text",
        "id": "hB06aFjWOEDm"
      },
      "source": [
        " Firstly, we will drop reservation_status as it corrseponds directly with our class label isCancelled. Next, we will remove the trivial reservation_status_date, and choose to evaluate the hotel information irrespective of country by removing the country feature. The market_segment feature corresponds directly with the distribution_channel feature. "
      ]
    },
    {
      "cell_type": "code",
      "metadata": {
        "colab_type": "code",
        "id": "tjaSeK_SvwbQ",
        "outputId": "f7084ad2-7beb-450a-f50b-ce7f11ce37da",
        "colab": {
          "base_uri": "https://localhost:8080/",
          "height": 313
        }
      },
      "source": [
        "fe_clnData = fe_clnData.drop(['reservation_status', 'reservation_status_date','country','arrival_date_week_number','market_segment'], axis=1)\n",
        "fe_clnData.head()"
      ],
      "execution_count": 0,
      "outputs": [
        {
          "output_type": "execute_result",
          "data": {
            "text/html": [
              "<div>\n",
              "<style scoped>\n",
              "    .dataframe tbody tr th:only-of-type {\n",
              "        vertical-align: middle;\n",
              "    }\n",
              "\n",
              "    .dataframe tbody tr th {\n",
              "        vertical-align: top;\n",
              "    }\n",
              "\n",
              "    .dataframe thead th {\n",
              "        text-align: right;\n",
              "    }\n",
              "</style>\n",
              "<table border=\"1\" class=\"dataframe\">\n",
              "  <thead>\n",
              "    <tr style=\"text-align: right;\">\n",
              "      <th></th>\n",
              "      <th>hotel</th>\n",
              "      <th>is_canceled</th>\n",
              "      <th>lead_time</th>\n",
              "      <th>arrival_date_year</th>\n",
              "      <th>arrival_date_month</th>\n",
              "      <th>arrival_date_day_of_month</th>\n",
              "      <th>stays_in_weekend_nights</th>\n",
              "      <th>stays_in_week_nights</th>\n",
              "      <th>adults</th>\n",
              "      <th>children</th>\n",
              "      <th>...</th>\n",
              "      <th>previous_bookings_not_canceled</th>\n",
              "      <th>reserved_room_type</th>\n",
              "      <th>assigned_room_type</th>\n",
              "      <th>booking_changes</th>\n",
              "      <th>deposit_type</th>\n",
              "      <th>days_in_waiting_list</th>\n",
              "      <th>customer_type</th>\n",
              "      <th>adr</th>\n",
              "      <th>required_car_parking_spaces</th>\n",
              "      <th>total_of_special_requests</th>\n",
              "    </tr>\n",
              "  </thead>\n",
              "  <tbody>\n",
              "    <tr>\n",
              "      <td>0</td>\n",
              "      <td>Resort Hotel</td>\n",
              "      <td>0</td>\n",
              "      <td>342</td>\n",
              "      <td>2015</td>\n",
              "      <td>July</td>\n",
              "      <td>1</td>\n",
              "      <td>0</td>\n",
              "      <td>0</td>\n",
              "      <td>2</td>\n",
              "      <td>0.0</td>\n",
              "      <td>...</td>\n",
              "      <td>0</td>\n",
              "      <td>C</td>\n",
              "      <td>C</td>\n",
              "      <td>3</td>\n",
              "      <td>No Deposit</td>\n",
              "      <td>0</td>\n",
              "      <td>Transient</td>\n",
              "      <td>0.0</td>\n",
              "      <td>0</td>\n",
              "      <td>0</td>\n",
              "    </tr>\n",
              "    <tr>\n",
              "      <td>1</td>\n",
              "      <td>Resort Hotel</td>\n",
              "      <td>0</td>\n",
              "      <td>737</td>\n",
              "      <td>2015</td>\n",
              "      <td>July</td>\n",
              "      <td>1</td>\n",
              "      <td>0</td>\n",
              "      <td>0</td>\n",
              "      <td>2</td>\n",
              "      <td>0.0</td>\n",
              "      <td>...</td>\n",
              "      <td>0</td>\n",
              "      <td>C</td>\n",
              "      <td>C</td>\n",
              "      <td>4</td>\n",
              "      <td>No Deposit</td>\n",
              "      <td>0</td>\n",
              "      <td>Transient</td>\n",
              "      <td>0.0</td>\n",
              "      <td>0</td>\n",
              "      <td>0</td>\n",
              "    </tr>\n",
              "    <tr>\n",
              "      <td>2</td>\n",
              "      <td>Resort Hotel</td>\n",
              "      <td>0</td>\n",
              "      <td>7</td>\n",
              "      <td>2015</td>\n",
              "      <td>July</td>\n",
              "      <td>1</td>\n",
              "      <td>0</td>\n",
              "      <td>1</td>\n",
              "      <td>1</td>\n",
              "      <td>0.0</td>\n",
              "      <td>...</td>\n",
              "      <td>0</td>\n",
              "      <td>A</td>\n",
              "      <td>C</td>\n",
              "      <td>0</td>\n",
              "      <td>No Deposit</td>\n",
              "      <td>0</td>\n",
              "      <td>Transient</td>\n",
              "      <td>75.0</td>\n",
              "      <td>0</td>\n",
              "      <td>0</td>\n",
              "    </tr>\n",
              "    <tr>\n",
              "      <td>3</td>\n",
              "      <td>Resort Hotel</td>\n",
              "      <td>0</td>\n",
              "      <td>13</td>\n",
              "      <td>2015</td>\n",
              "      <td>July</td>\n",
              "      <td>1</td>\n",
              "      <td>0</td>\n",
              "      <td>1</td>\n",
              "      <td>1</td>\n",
              "      <td>0.0</td>\n",
              "      <td>...</td>\n",
              "      <td>0</td>\n",
              "      <td>A</td>\n",
              "      <td>A</td>\n",
              "      <td>0</td>\n",
              "      <td>No Deposit</td>\n",
              "      <td>0</td>\n",
              "      <td>Transient</td>\n",
              "      <td>75.0</td>\n",
              "      <td>0</td>\n",
              "      <td>0</td>\n",
              "    </tr>\n",
              "    <tr>\n",
              "      <td>4</td>\n",
              "      <td>Resort Hotel</td>\n",
              "      <td>0</td>\n",
              "      <td>14</td>\n",
              "      <td>2015</td>\n",
              "      <td>July</td>\n",
              "      <td>1</td>\n",
              "      <td>0</td>\n",
              "      <td>2</td>\n",
              "      <td>2</td>\n",
              "      <td>0.0</td>\n",
              "      <td>...</td>\n",
              "      <td>0</td>\n",
              "      <td>A</td>\n",
              "      <td>A</td>\n",
              "      <td>0</td>\n",
              "      <td>No Deposit</td>\n",
              "      <td>0</td>\n",
              "      <td>Transient</td>\n",
              "      <td>98.0</td>\n",
              "      <td>0</td>\n",
              "      <td>1</td>\n",
              "    </tr>\n",
              "  </tbody>\n",
              "</table>\n",
              "<p>5 rows × 25 columns</p>\n",
              "</div>"
            ],
            "text/plain": [
              "          hotel  is_canceled  lead_time  arrival_date_year arrival_date_month  \\\n",
              "0  Resort Hotel            0        342               2015               July   \n",
              "1  Resort Hotel            0        737               2015               July   \n",
              "2  Resort Hotel            0          7               2015               July   \n",
              "3  Resort Hotel            0         13               2015               July   \n",
              "4  Resort Hotel            0         14               2015               July   \n",
              "\n",
              "   arrival_date_day_of_month  stays_in_weekend_nights  stays_in_week_nights  \\\n",
              "0                          1                        0                     0   \n",
              "1                          1                        0                     0   \n",
              "2                          1                        0                     1   \n",
              "3                          1                        0                     1   \n",
              "4                          1                        0                     2   \n",
              "\n",
              "   adults  children  ...  previous_bookings_not_canceled reserved_room_type  \\\n",
              "0       2       0.0  ...                               0                  C   \n",
              "1       2       0.0  ...                               0                  C   \n",
              "2       1       0.0  ...                               0                  A   \n",
              "3       1       0.0  ...                               0                  A   \n",
              "4       2       0.0  ...                               0                  A   \n",
              "\n",
              "  assigned_room_type  booking_changes  deposit_type  days_in_waiting_list  \\\n",
              "0                  C                3    No Deposit                     0   \n",
              "1                  C                4    No Deposit                     0   \n",
              "2                  C                0    No Deposit                     0   \n",
              "3                  A                0    No Deposit                     0   \n",
              "4                  A                0    No Deposit                     0   \n",
              "\n",
              "  customer_type   adr  required_car_parking_spaces total_of_special_requests  \n",
              "0     Transient   0.0                            0                         0  \n",
              "1     Transient   0.0                            0                         0  \n",
              "2     Transient  75.0                            0                         0  \n",
              "3     Transient  75.0                            0                         0  \n",
              "4     Transient  98.0                            0                         1  \n",
              "\n",
              "[5 rows x 25 columns]"
            ]
          },
          "metadata": {
            "tags": []
          },
          "execution_count": 32
        }
      ]
    },
    {
      "cell_type": "markdown",
      "metadata": {
        "colab_type": "text",
        "id": "huCHyS9ROhw2"
      },
      "source": [
        "##Categorical Features"
      ]
    },
    {
      "cell_type": "code",
      "metadata": {
        "colab_type": "code",
        "id": "YcDC_yKs6mSX",
        "outputId": "ad59bd09-e286-4814-b980-9a9298e584af",
        "colab": {
          "base_uri": "https://localhost:8080/",
          "height": 329
        }
      },
      "source": [
        "print(fe_clnData['distribution_channel'].value_counts())\n",
        "print(fe_clnData['customer_type'].value_counts())\n",
        "print(fe_clnData['meal'].value_counts())\n"
      ],
      "execution_count": 0,
      "outputs": [
        {
          "output_type": "stream",
          "text": [
            "TA/TO        68997\n",
            "Direct       12935\n",
            "Corporate     5049\n",
            "GDS            181\n",
            "Undefined        5\n",
            "Name: distribution_channel, dtype: int64\n",
            "Transient          71827\n",
            "Transient-Party    11678\n",
            "Contract            3134\n",
            "Group                528\n",
            "Name: customer_type, dtype: int64\n",
            "BB           67854\n",
            "SC            9390\n",
            "HB            9074\n",
            "Undefined      490\n",
            "FB             359\n",
            "Name: meal, dtype: int64\n"
          ],
          "name": "stdout"
        }
      ]
    },
    {
      "cell_type": "markdown",
      "metadata": {
        "colab_type": "text",
        "id": "zboFS2bvQC0u"
      },
      "source": [
        "Examining the values and frequencies for the distribution_channel , customer_type , meal , and hotel features above, we can take some simple steps to prepare this data for our algorithms. \n",
        "\n",
        "The distribution_channel feature has 5 Undefined values which we can simply translate to TA/TO, the most frequent option. Additionally, GDS stands for Global Distribution System, and is a similar service to the Travel Agency/ Tour Operator option. As such, we replace these values with TA/TO to limit our features in preparation for one-hot-encoding.\n",
        "\n",
        "The meal feature has 5 unique options which reflect between 0 and 3 meals being served to guests per day, we replaces these values with corresponding numerical ones.\n",
        "\n",
        "The customer_type feature has 4 unique values which can be combined into two categories, Contracts and Groups, and Transient & Transient-Parties. The dataset description of these values encouraged such a transformation.\n",
        "\n",
        "Finally, the hotel feature can simply be Label encoded as it only has two unique values."
      ]
    },
    {
      "cell_type": "code",
      "metadata": {
        "colab_type": "code",
        "id": "Afsb-dMmvwbS",
        "outputId": "73641ca2-f883-47b0-9e85-d3da8c6ee067",
        "colab": {
          "base_uri": "https://localhost:8080/",
          "height": 226
        }
      },
      "source": [
        "categorical_to_numeric = {\"hotel\":     {\"Resort Hotel\": 0, \"City Hotel\": 1},\n",
        "                          \"distribution_channel\": {\"Undefined\" : \"TA/TO\", \"GDS\" :\"TA/TO\" },\n",
        "                          \"meal\" : {\"Undefined\" : 0, \"SC\" : 0, \"BB\" : 1, \"HB\" : 2, \"FB\" : 3 },\n",
        "                          \"customer_type\" : {\"Contract\": 0 , \"Group\": 0 , \"Transient\": 1, \"Transient-Party\": 1}}\n",
        "\n",
        "fe_clnData.replace(categorical_to_numeric, inplace=True)\n",
        "fe_clnData.head()"
      ],
      "execution_count": 0,
      "outputs": [
        {
          "output_type": "execute_result",
          "data": {
            "text/html": [
              "<div>\n",
              "<style scoped>\n",
              "    .dataframe tbody tr th:only-of-type {\n",
              "        vertical-align: middle;\n",
              "    }\n",
              "\n",
              "    .dataframe tbody tr th {\n",
              "        vertical-align: top;\n",
              "    }\n",
              "\n",
              "    .dataframe thead th {\n",
              "        text-align: right;\n",
              "    }\n",
              "</style>\n",
              "<table border=\"1\" class=\"dataframe\">\n",
              "  <thead>\n",
              "    <tr style=\"text-align: right;\">\n",
              "      <th></th>\n",
              "      <th>hotel</th>\n",
              "      <th>is_canceled</th>\n",
              "      <th>lead_time</th>\n",
              "      <th>arrival_date_year</th>\n",
              "      <th>arrival_date_month</th>\n",
              "      <th>arrival_date_day_of_month</th>\n",
              "      <th>stays_in_weekend_nights</th>\n",
              "      <th>stays_in_week_nights</th>\n",
              "      <th>adults</th>\n",
              "      <th>children</th>\n",
              "      <th>...</th>\n",
              "      <th>previous_bookings_not_canceled</th>\n",
              "      <th>reserved_room_type</th>\n",
              "      <th>assigned_room_type</th>\n",
              "      <th>booking_changes</th>\n",
              "      <th>deposit_type</th>\n",
              "      <th>days_in_waiting_list</th>\n",
              "      <th>customer_type</th>\n",
              "      <th>adr</th>\n",
              "      <th>required_car_parking_spaces</th>\n",
              "      <th>total_of_special_requests</th>\n",
              "    </tr>\n",
              "  </thead>\n",
              "  <tbody>\n",
              "    <tr>\n",
              "      <td>0</td>\n",
              "      <td>0</td>\n",
              "      <td>0</td>\n",
              "      <td>342</td>\n",
              "      <td>2015</td>\n",
              "      <td>July</td>\n",
              "      <td>1</td>\n",
              "      <td>0</td>\n",
              "      <td>0</td>\n",
              "      <td>2</td>\n",
              "      <td>0.0</td>\n",
              "      <td>...</td>\n",
              "      <td>0</td>\n",
              "      <td>C</td>\n",
              "      <td>C</td>\n",
              "      <td>3</td>\n",
              "      <td>No Deposit</td>\n",
              "      <td>0</td>\n",
              "      <td>1</td>\n",
              "      <td>0.0</td>\n",
              "      <td>0</td>\n",
              "      <td>0</td>\n",
              "    </tr>\n",
              "    <tr>\n",
              "      <td>1</td>\n",
              "      <td>0</td>\n",
              "      <td>0</td>\n",
              "      <td>737</td>\n",
              "      <td>2015</td>\n",
              "      <td>July</td>\n",
              "      <td>1</td>\n",
              "      <td>0</td>\n",
              "      <td>0</td>\n",
              "      <td>2</td>\n",
              "      <td>0.0</td>\n",
              "      <td>...</td>\n",
              "      <td>0</td>\n",
              "      <td>C</td>\n",
              "      <td>C</td>\n",
              "      <td>4</td>\n",
              "      <td>No Deposit</td>\n",
              "      <td>0</td>\n",
              "      <td>1</td>\n",
              "      <td>0.0</td>\n",
              "      <td>0</td>\n",
              "      <td>0</td>\n",
              "    </tr>\n",
              "    <tr>\n",
              "      <td>2</td>\n",
              "      <td>0</td>\n",
              "      <td>0</td>\n",
              "      <td>7</td>\n",
              "      <td>2015</td>\n",
              "      <td>July</td>\n",
              "      <td>1</td>\n",
              "      <td>0</td>\n",
              "      <td>1</td>\n",
              "      <td>1</td>\n",
              "      <td>0.0</td>\n",
              "      <td>...</td>\n",
              "      <td>0</td>\n",
              "      <td>A</td>\n",
              "      <td>C</td>\n",
              "      <td>0</td>\n",
              "      <td>No Deposit</td>\n",
              "      <td>0</td>\n",
              "      <td>1</td>\n",
              "      <td>75.0</td>\n",
              "      <td>0</td>\n",
              "      <td>0</td>\n",
              "    </tr>\n",
              "    <tr>\n",
              "      <td>3</td>\n",
              "      <td>0</td>\n",
              "      <td>0</td>\n",
              "      <td>13</td>\n",
              "      <td>2015</td>\n",
              "      <td>July</td>\n",
              "      <td>1</td>\n",
              "      <td>0</td>\n",
              "      <td>1</td>\n",
              "      <td>1</td>\n",
              "      <td>0.0</td>\n",
              "      <td>...</td>\n",
              "      <td>0</td>\n",
              "      <td>A</td>\n",
              "      <td>A</td>\n",
              "      <td>0</td>\n",
              "      <td>No Deposit</td>\n",
              "      <td>0</td>\n",
              "      <td>1</td>\n",
              "      <td>75.0</td>\n",
              "      <td>0</td>\n",
              "      <td>0</td>\n",
              "    </tr>\n",
              "    <tr>\n",
              "      <td>4</td>\n",
              "      <td>0</td>\n",
              "      <td>0</td>\n",
              "      <td>14</td>\n",
              "      <td>2015</td>\n",
              "      <td>July</td>\n",
              "      <td>1</td>\n",
              "      <td>0</td>\n",
              "      <td>2</td>\n",
              "      <td>2</td>\n",
              "      <td>0.0</td>\n",
              "      <td>...</td>\n",
              "      <td>0</td>\n",
              "      <td>A</td>\n",
              "      <td>A</td>\n",
              "      <td>0</td>\n",
              "      <td>No Deposit</td>\n",
              "      <td>0</td>\n",
              "      <td>1</td>\n",
              "      <td>98.0</td>\n",
              "      <td>0</td>\n",
              "      <td>1</td>\n",
              "    </tr>\n",
              "  </tbody>\n",
              "</table>\n",
              "<p>5 rows × 25 columns</p>\n",
              "</div>"
            ],
            "text/plain": [
              "   hotel  is_canceled  lead_time  arrival_date_year arrival_date_month  \\\n",
              "0      0            0        342               2015               July   \n",
              "1      0            0        737               2015               July   \n",
              "2      0            0          7               2015               July   \n",
              "3      0            0         13               2015               July   \n",
              "4      0            0         14               2015               July   \n",
              "\n",
              "   arrival_date_day_of_month  stays_in_weekend_nights  stays_in_week_nights  \\\n",
              "0                          1                        0                     0   \n",
              "1                          1                        0                     0   \n",
              "2                          1                        0                     1   \n",
              "3                          1                        0                     1   \n",
              "4                          1                        0                     2   \n",
              "\n",
              "   adults  children  ...  previous_bookings_not_canceled  reserved_room_type  \\\n",
              "0       2       0.0  ...                               0                   C   \n",
              "1       2       0.0  ...                               0                   C   \n",
              "2       1       0.0  ...                               0                   A   \n",
              "3       1       0.0  ...                               0                   A   \n",
              "4       2       0.0  ...                               0                   A   \n",
              "\n",
              "  assigned_room_type  booking_changes  deposit_type  days_in_waiting_list  \\\n",
              "0                  C                3    No Deposit                     0   \n",
              "1                  C                4    No Deposit                     0   \n",
              "2                  C                0    No Deposit                     0   \n",
              "3                  A                0    No Deposit                     0   \n",
              "4                  A                0    No Deposit                     0   \n",
              "\n",
              "  customer_type   adr  required_car_parking_spaces total_of_special_requests  \n",
              "0             1   0.0                            0                         0  \n",
              "1             1   0.0                            0                         0  \n",
              "2             1  75.0                            0                         0  \n",
              "3             1  75.0                            0                         0  \n",
              "4             1  98.0                            0                         1  \n",
              "\n",
              "[5 rows x 25 columns]"
            ]
          },
          "metadata": {
            "tags": []
          },
          "execution_count": 34
        }
      ]
    },
    {
      "cell_type": "markdown",
      "metadata": {
        "colab_type": "text",
        "id": "-UIcT0WZX0Zl"
      },
      "source": [
        "The features deposit_type and distribution_channel each have three values, so we employ One-Hot-Encoding to represent these values within our feature set."
      ]
    },
    {
      "cell_type": "code",
      "metadata": {
        "colab_type": "code",
        "id": "WYARjMNAvwbU",
        "outputId": "4d191a56-716e-41ab-e8af-9c8f7df7e264",
        "colab": {
          "base_uri": "https://localhost:8080/",
          "height": 244
        }
      },
      "source": [
        "fe_clnData = pd.get_dummies(fe_clnData, columns=[\"distribution_channel\", \"deposit_type\"])\n",
        "fe_clnData.head()"
      ],
      "execution_count": 0,
      "outputs": [
        {
          "output_type": "execute_result",
          "data": {
            "text/html": [
              "<div>\n",
              "<style scoped>\n",
              "    .dataframe tbody tr th:only-of-type {\n",
              "        vertical-align: middle;\n",
              "    }\n",
              "\n",
              "    .dataframe tbody tr th {\n",
              "        vertical-align: top;\n",
              "    }\n",
              "\n",
              "    .dataframe thead th {\n",
              "        text-align: right;\n",
              "    }\n",
              "</style>\n",
              "<table border=\"1\" class=\"dataframe\">\n",
              "  <thead>\n",
              "    <tr style=\"text-align: right;\">\n",
              "      <th></th>\n",
              "      <th>hotel</th>\n",
              "      <th>is_canceled</th>\n",
              "      <th>lead_time</th>\n",
              "      <th>arrival_date_year</th>\n",
              "      <th>arrival_date_month</th>\n",
              "      <th>arrival_date_day_of_month</th>\n",
              "      <th>stays_in_weekend_nights</th>\n",
              "      <th>stays_in_week_nights</th>\n",
              "      <th>adults</th>\n",
              "      <th>children</th>\n",
              "      <th>...</th>\n",
              "      <th>customer_type</th>\n",
              "      <th>adr</th>\n",
              "      <th>required_car_parking_spaces</th>\n",
              "      <th>total_of_special_requests</th>\n",
              "      <th>distribution_channel_Corporate</th>\n",
              "      <th>distribution_channel_Direct</th>\n",
              "      <th>distribution_channel_TA/TO</th>\n",
              "      <th>deposit_type_No Deposit</th>\n",
              "      <th>deposit_type_Non Refund</th>\n",
              "      <th>deposit_type_Refundable</th>\n",
              "    </tr>\n",
              "  </thead>\n",
              "  <tbody>\n",
              "    <tr>\n",
              "      <td>0</td>\n",
              "      <td>0</td>\n",
              "      <td>0</td>\n",
              "      <td>342</td>\n",
              "      <td>2015</td>\n",
              "      <td>July</td>\n",
              "      <td>1</td>\n",
              "      <td>0</td>\n",
              "      <td>0</td>\n",
              "      <td>2</td>\n",
              "      <td>0.0</td>\n",
              "      <td>...</td>\n",
              "      <td>1</td>\n",
              "      <td>0.0</td>\n",
              "      <td>0</td>\n",
              "      <td>0</td>\n",
              "      <td>0</td>\n",
              "      <td>1</td>\n",
              "      <td>0</td>\n",
              "      <td>1</td>\n",
              "      <td>0</td>\n",
              "      <td>0</td>\n",
              "    </tr>\n",
              "    <tr>\n",
              "      <td>1</td>\n",
              "      <td>0</td>\n",
              "      <td>0</td>\n",
              "      <td>737</td>\n",
              "      <td>2015</td>\n",
              "      <td>July</td>\n",
              "      <td>1</td>\n",
              "      <td>0</td>\n",
              "      <td>0</td>\n",
              "      <td>2</td>\n",
              "      <td>0.0</td>\n",
              "      <td>...</td>\n",
              "      <td>1</td>\n",
              "      <td>0.0</td>\n",
              "      <td>0</td>\n",
              "      <td>0</td>\n",
              "      <td>0</td>\n",
              "      <td>1</td>\n",
              "      <td>0</td>\n",
              "      <td>1</td>\n",
              "      <td>0</td>\n",
              "      <td>0</td>\n",
              "    </tr>\n",
              "    <tr>\n",
              "      <td>2</td>\n",
              "      <td>0</td>\n",
              "      <td>0</td>\n",
              "      <td>7</td>\n",
              "      <td>2015</td>\n",
              "      <td>July</td>\n",
              "      <td>1</td>\n",
              "      <td>0</td>\n",
              "      <td>1</td>\n",
              "      <td>1</td>\n",
              "      <td>0.0</td>\n",
              "      <td>...</td>\n",
              "      <td>1</td>\n",
              "      <td>75.0</td>\n",
              "      <td>0</td>\n",
              "      <td>0</td>\n",
              "      <td>0</td>\n",
              "      <td>1</td>\n",
              "      <td>0</td>\n",
              "      <td>1</td>\n",
              "      <td>0</td>\n",
              "      <td>0</td>\n",
              "    </tr>\n",
              "    <tr>\n",
              "      <td>3</td>\n",
              "      <td>0</td>\n",
              "      <td>0</td>\n",
              "      <td>13</td>\n",
              "      <td>2015</td>\n",
              "      <td>July</td>\n",
              "      <td>1</td>\n",
              "      <td>0</td>\n",
              "      <td>1</td>\n",
              "      <td>1</td>\n",
              "      <td>0.0</td>\n",
              "      <td>...</td>\n",
              "      <td>1</td>\n",
              "      <td>75.0</td>\n",
              "      <td>0</td>\n",
              "      <td>0</td>\n",
              "      <td>1</td>\n",
              "      <td>0</td>\n",
              "      <td>0</td>\n",
              "      <td>1</td>\n",
              "      <td>0</td>\n",
              "      <td>0</td>\n",
              "    </tr>\n",
              "    <tr>\n",
              "      <td>4</td>\n",
              "      <td>0</td>\n",
              "      <td>0</td>\n",
              "      <td>14</td>\n",
              "      <td>2015</td>\n",
              "      <td>July</td>\n",
              "      <td>1</td>\n",
              "      <td>0</td>\n",
              "      <td>2</td>\n",
              "      <td>2</td>\n",
              "      <td>0.0</td>\n",
              "      <td>...</td>\n",
              "      <td>1</td>\n",
              "      <td>98.0</td>\n",
              "      <td>0</td>\n",
              "      <td>1</td>\n",
              "      <td>0</td>\n",
              "      <td>0</td>\n",
              "      <td>1</td>\n",
              "      <td>1</td>\n",
              "      <td>0</td>\n",
              "      <td>0</td>\n",
              "    </tr>\n",
              "  </tbody>\n",
              "</table>\n",
              "<p>5 rows × 29 columns</p>\n",
              "</div>"
            ],
            "text/plain": [
              "   hotel  is_canceled  lead_time  arrival_date_year arrival_date_month  \\\n",
              "0      0            0        342               2015               July   \n",
              "1      0            0        737               2015               July   \n",
              "2      0            0          7               2015               July   \n",
              "3      0            0         13               2015               July   \n",
              "4      0            0         14               2015               July   \n",
              "\n",
              "   arrival_date_day_of_month  stays_in_weekend_nights  stays_in_week_nights  \\\n",
              "0                          1                        0                     0   \n",
              "1                          1                        0                     0   \n",
              "2                          1                        0                     1   \n",
              "3                          1                        0                     1   \n",
              "4                          1                        0                     2   \n",
              "\n",
              "   adults  children  ...  customer_type   adr  required_car_parking_spaces  \\\n",
              "0       2       0.0  ...              1   0.0                            0   \n",
              "1       2       0.0  ...              1   0.0                            0   \n",
              "2       1       0.0  ...              1  75.0                            0   \n",
              "3       1       0.0  ...              1  75.0                            0   \n",
              "4       2       0.0  ...              1  98.0                            0   \n",
              "\n",
              "   total_of_special_requests  distribution_channel_Corporate  \\\n",
              "0                          0                               0   \n",
              "1                          0                               0   \n",
              "2                          0                               0   \n",
              "3                          0                               1   \n",
              "4                          1                               0   \n",
              "\n",
              "  distribution_channel_Direct distribution_channel_TA/TO  \\\n",
              "0                           1                          0   \n",
              "1                           1                          0   \n",
              "2                           1                          0   \n",
              "3                           0                          0   \n",
              "4                           0                          1   \n",
              "\n",
              "   deposit_type_No Deposit  deposit_type_Non Refund  deposit_type_Refundable  \n",
              "0                        1                        0                        0  \n",
              "1                        1                        0                        0  \n",
              "2                        1                        0                        0  \n",
              "3                        1                        0                        0  \n",
              "4                        1                        0                        0  \n",
              "\n",
              "[5 rows x 29 columns]"
            ]
          },
          "metadata": {
            "tags": []
          },
          "execution_count": 35
        }
      ]
    },
    {
      "cell_type": "markdown",
      "metadata": {
        "colab_type": "text",
        "id": "s4PPDxcePAlo"
      },
      "source": [
        "## Feature Creation"
      ]
    },
    {
      "cell_type": "markdown",
      "metadata": {
        "colab_type": "text",
        "id": "lNi1-32_afQe"
      },
      "source": [
        "The reserved_room_type and assigned_room_type features provide little value to our dataset unless combined to determine whether the room provided to a guest was as expected. As such, we drop these two features and replace them with a numeric column relating if the room was correctly provided."
      ]
    },
    {
      "cell_type": "code",
      "metadata": {
        "colab_type": "code",
        "id": "MKrwyy7RYoLU",
        "colab": {}
      },
      "source": [
        "is_room_correct = []\n",
        "\n",
        "for ind in fe_clnData.index: \n",
        "     if( fe_clnData['reserved_room_type'][ind] != fe_clnData['assigned_room_type'][ind]):\n",
        "       is_room_correct.append(0)\n",
        "     else:\n",
        "       is_room_correct.append(1)\n",
        "\n",
        "fe_clnData = fe_clnData.drop(['reserved_room_type', 'assigned_room_type'], axis=1)\n",
        "fe_clnData['is_room_correct'] = is_room_correct"
      ],
      "execution_count": 0,
      "outputs": []
    },
    {
      "cell_type": "markdown",
      "metadata": {
        "colab_type": "text",
        "id": "J-hkbhKBnEfo"
      },
      "source": [
        "For some reason, the children feature was entered as a float with values. We applied a lambda function on this column to cast it as an integer."
      ]
    },
    {
      "cell_type": "code",
      "metadata": {
        "colab_type": "code",
        "id": "HKR2zHzUnFil",
        "colab": {}
      },
      "source": [
        "fe_clnData['children'] = fe_clnData['children'].apply(lambda x: int(float(x)))"
      ],
      "execution_count": 0,
      "outputs": []
    },
    {
      "cell_type": "markdown",
      "metadata": {
        "colab_type": "text",
        "id": "IKWscAf3qFqc"
      },
      "source": [
        "The features corresponding with the booking dates are poorly suited for our ML algorithms. For one, the month category is categorical and should be translated to numeric. After making this change, we can combine the year, month, and day of month features from our dataset into a datetime object. \n",
        "\n",
        "After creating a datetime object, we can then convert these records' values into a weekday feature - reflecting monday (0) to sunday (6), and a day of year feature - from 1 to 365. \n",
        "\n",
        "These features are further primed for our ml algorithms by using sin and cosine transformations to reflect their cyclical nature. This transformation makes it so that day 365 and day 1 are 1 day apart, and weekday 0 (monday) and weekday 6 (sunday) are also 1 day apart. "
      ]
    },
    {
      "cell_type": "code",
      "metadata": {
        "colab_type": "code",
        "id": "In2fwwEha9Bs",
        "colab": {}
      },
      "source": [
        "encode_dates = {\"arrival_date_month\":     {\"January\": 1, \"February\": 2,\n",
        "                                           \"March\": 3, \"April\": 4,\n",
        "                                           \"May\": 5, \"June\": 6,\n",
        "                                           \"July\" : 7, \"August\": 8,\n",
        "                                           \"September\": 9, \"October\": 10,\n",
        "                                           \"November\": 11, \"December\": 12 }}\n",
        "\n",
        "fe_clnData.replace(encode_dates, inplace=True)\n",
        "\n",
        "df = pd.DataFrame({'year': fe_clnData['arrival_date_year'],\n",
        "\n",
        "                   'month': fe_clnData['arrival_date_month'],\n",
        "\n",
        "                   'day': fe_clnData['arrival_date_day_of_month']})\n",
        "dates = pd.to_datetime(df)\n",
        "\n",
        "weekdays = dates.dt.weekday\n",
        "day_of_year = dates.dt.dayofyear\n",
        "\n",
        "\n",
        "fe_clnData['weekday_sin'] = np.sin(2 * np.pi * weekdays/6.0)\n",
        "fe_clnData['weekday_cos'] = np.cos(2 * np.pi * weekdays/6.0)\n",
        "fe_clnData['day_of_year_sin'] = np.sin(2 * np.pi * day_of_year/365.0)\n",
        "fe_clnData['day_of_year_cos'] = np.cos(2 * np.pi * day_of_year/365.0)\n",
        "\n",
        "fe_clnData = fe_clnData.drop(['arrival_date_year', 'arrival_date_month','arrival_date_day_of_month'], axis=1)\n"
      ],
      "execution_count": 0,
      "outputs": []
    },
    {
      "cell_type": "code",
      "metadata": {
        "colab_type": "code",
        "id": "CY3cpxdKsinU",
        "outputId": "ead15bba-0e35-4b7a-9e2b-531aeb51b9b2",
        "colab": {
          "base_uri": "https://localhost:8080/",
          "height": 568
        }
      },
      "source": [
        "fe_clnData.dtypes"
      ],
      "execution_count": 0,
      "outputs": [
        {
          "output_type": "execute_result",
          "data": {
            "text/plain": [
              "hotel                               int64\n",
              "is_canceled                         int64\n",
              "lead_time                           int64\n",
              "stays_in_weekend_nights             int64\n",
              "stays_in_week_nights                int64\n",
              "adults                              int64\n",
              "children                            int64\n",
              "babies                              int64\n",
              "meal                                int64\n",
              "is_repeated_guest                   int64\n",
              "previous_cancellations              int64\n",
              "previous_bookings_not_canceled      int64\n",
              "booking_changes                     int64\n",
              "days_in_waiting_list                int64\n",
              "customer_type                       int64\n",
              "adr                               float64\n",
              "required_car_parking_spaces         int64\n",
              "total_of_special_requests           int64\n",
              "distribution_channel_Corporate      uint8\n",
              "distribution_channel_Direct         uint8\n",
              "distribution_channel_TA/TO          uint8\n",
              "deposit_type_No Deposit             uint8\n",
              "deposit_type_Non Refund             uint8\n",
              "deposit_type_Refundable             uint8\n",
              "is_room_correct                     int64\n",
              "weekday_sin                       float64\n",
              "weekday_cos                       float64\n",
              "day_of_year_sin                   float64\n",
              "day_of_year_cos                   float64\n",
              "dtype: object"
            ]
          },
          "metadata": {
            "tags": []
          },
          "execution_count": 39
        }
      ]
    },
    {
      "cell_type": "markdown",
      "metadata": {
        "colab_type": "text",
        "id": "jNOn6yVzudEJ"
      },
      "source": [
        "# Principle Component Analysis\n"
      ]
    },
    {
      "cell_type": "markdown",
      "metadata": {
        "colab_type": "text",
        "id": "k5IGfW3L2VD8"
      },
      "source": [
        "Now that the feature engineering is complete, we still need to standardize and reduce the dimensionality of the data before running it through our algorithms. For this, we first seperate the label from the features to standaridze only the features. Then using an 80%-20% split, we seperate the data into training and test data. "
      ]
    },
    {
      "cell_type": "code",
      "metadata": {
        "colab_type": "code",
        "id": "M-4EAnBJukro",
        "outputId": "905bed19-52d0-45b0-cabb-f37424d82b10",
        "colab": {
          "base_uri": "https://localhost:8080/",
          "height": 54
        }
      },
      "source": [
        "pca_data_labels = fe_clnData['is_canceled']\n",
        "\n",
        "pca_data_features = fe_clnData.drop(['is_canceled'],axis=1)\n",
        "\n",
        "print(pca_data_labels.shape)\n",
        "pca_data_features.shape"
      ],
      "execution_count": 0,
      "outputs": [
        {
          "output_type": "stream",
          "text": [
            "(87167,)\n"
          ],
          "name": "stdout"
        },
        {
          "output_type": "execute_result",
          "data": {
            "text/plain": [
              "(87167, 28)"
            ]
          },
          "metadata": {
            "tags": []
          },
          "execution_count": 40
        }
      ]
    },
    {
      "cell_type": "code",
      "metadata": {
        "colab_type": "code",
        "id": "M1JaLaN6vViP",
        "colab": {}
      },
      "source": [
        "from sklearn.preprocessing import StandardScaler\n",
        "\n",
        "stdze = StandardScaler()\n",
        "pca_data_features_std = stdze.fit_transform(pca_data_features)"
      ],
      "execution_count": 0,
      "outputs": []
    },
    {
      "cell_type": "code",
      "metadata": {
        "colab_type": "code",
        "id": "B_nhpEkVvpsp",
        "outputId": "73a5cd6f-87f8-4546-e238-47f3472fd9ee",
        "colab": {
          "base_uri": "https://localhost:8080/",
          "height": 54
        }
      },
      "source": [
        "from sklearn.model_selection import train_test_split\n",
        "\n",
        "pca_features_train, pca_features_test, pca_label_train, pca_label_test = train_test_split(pca_data_features_std, pca_data_labels, test_size=0.20)\n",
        "\n",
        "print(\"features_train=\",pca_features_train.shape, \" label_train=\", pca_label_train.shape)\n",
        "print(\"features_test=\",pca_features_test.shape, \" label_test=\", pca_label_test.shape)"
      ],
      "execution_count": 0,
      "outputs": [
        {
          "output_type": "stream",
          "text": [
            "features_train= (69733, 28)  label_train= (69733,)\n",
            "features_test= (17434, 28)  label_test= (17434,)\n"
          ],
          "name": "stdout"
        }
      ]
    },
    {
      "cell_type": "markdown",
      "metadata": {
        "colab_type": "text",
        "id": "ctPU60xN2kWp"
      },
      "source": [
        "From the split, we can see that the training set contains 69733 records and the test set 17434. We now perform a PCA on the training set and use that to determine the number of principle components needed for 95% variance to be retained. The dataset will be reduced to that number of columns for running on our classfier algorithms."
      ]
    },
    {
      "cell_type": "code",
      "metadata": {
        "colab_type": "code",
        "id": "fAmUAO85wFEz",
        "outputId": "2828fd8a-7e00-49bd-a07b-dab1152623ce",
        "colab": {
          "base_uri": "https://localhost:8080/",
          "height": 127
        }
      },
      "source": [
        "from sklearn.decomposition import PCA\n",
        "\n",
        "# Fit PCA to the training set. Use fit_transform to transform the data to the PCA space.\n",
        "pca = PCA()\n",
        "pca_data = pca.fit_transform(pca_features_train)\n",
        "\n",
        "var_exp = pca.explained_variance_ratio_\n",
        "print(\"cumulative variance:\", np.cumsum(var_exp)) #keep 22 features with variance below 95%\n",
        "\n",
        "features_train_pca_1 = pca_data[:, :22]\n",
        "\n",
        "features_test_pca_1 = pca.transform(pca_features_test)[:,:22]\n",
        "\n",
        "print(features_train_pca_1.shape, features_test_pca_1.shape)"
      ],
      "execution_count": 0,
      "outputs": [
        {
          "output_type": "stream",
          "text": [
            "cumulative variance: [0.10526775 0.18288143 0.25419899 0.31619057 0.37316728 0.41821198\n",
            " 0.4623311  0.50194776 0.54074343 0.57856939 0.61568654 0.65073258\n",
            " 0.68466096 0.7178724  0.74985495 0.78125335 0.811355   0.84100256\n",
            " 0.86945657 0.89603547 0.91914597 0.94180431 0.96297018 0.98093997\n",
            " 0.99203346 1.         1.         1.        ]\n",
            "(69733, 22) (17434, 22)\n"
          ],
          "name": "stdout"
        }
      ]
    },
    {
      "cell_type": "code",
      "metadata": {
        "colab_type": "code",
        "id": "PN6bJt7YlXWY",
        "colab": {}
      },
      "source": [
        ""
      ],
      "execution_count": 0,
      "outputs": []
    },
    {
      "cell_type": "markdown",
      "metadata": {
        "colab_type": "text",
        "id": "0KWplkN8vwbZ"
      },
      "source": [
        "# Data Analysis"
      ]
    },
    {
      "cell_type": "markdown",
      "metadata": {
        "colab_type": "text",
        "id": "_jvk7K2C2_kh"
      },
      "source": [
        "## Decision Tree"
      ]
    },
    {
      "cell_type": "code",
      "metadata": {
        "colab_type": "code",
        "id": "Cf_d5JYWyJCx",
        "outputId": "b024a60a-6001-4eb9-98de-47ec09adac48",
        "colab": {}
      },
      "source": [
        "from sklearn.tree import DecisionTreeClassifier\n",
        "from sklearn.metrics import accuracy_score\n",
        "from sklearn.model_selection import GridSearchCV\n",
        "from sklearn.model_selection import cross_val_score\n",
        "\n",
        "DT_X = pca_features_train\n",
        "DT_Y = pca_label_train\n",
        "\n",
        "clf = DecisionTreeClassifier()\n",
        "params = {\"max_depth\": [5,10,15,20],\n",
        "          \"min_samples_leaf\": [5,10,15,20],\n",
        "          \"max_features\" : [5,10,15]}\n",
        "\n",
        "\n",
        "grid_search = GridSearchCV(clf, params, cv=5, scoring='accuracy')\n",
        "\n",
        "grid_search.fit(DT_X, DT_Y)\n",
        "\n",
        "print(grid_search.best_params_)\n",
        "\n",
        "scores = cross_val_score(grid_search, DT_X, DT_Y, cv=5) \n",
        "print(\"Scores:\", scores)                                            \n",
        "\n",
        "print(\"Accuracy:\", scores.mean()*100)"
      ],
      "execution_count": 0,
      "outputs": [
        {
          "output_type": "stream",
          "text": [
            "{'max_depth': 15, 'max_features': 15, 'min_samples_leaf': 20}\n",
            "Scores: [0.77960998 0.78676418 0.78323534 0.78660548 0.78388068]\n",
            "Accuracy: 78.4019131161071\n"
          ],
          "name": "stdout"
        }
      ]
    },
    {
      "cell_type": "markdown",
      "metadata": {
        "colab_type": "text",
        "id": "jtJK5gO82_wr"
      },
      "source": [
        "## SVM"
      ]
    },
    {
      "cell_type": "code",
      "metadata": {
        "colab_type": "code",
        "id": "vHW5knqMvwbZ",
        "outputId": "03445e64-81c2-470f-da3e-b6a89947cd86",
        "colab": {
          "base_uri": "https://localhost:8080/",
          "height": 275
        }
      },
      "source": [
        "svm_data_labels = pca_label_train\n",
        "svm_data_features = pca_features_train\n",
        "\n",
        "print(svm_data_features.shape)\n",
        "print(svm_data_labels.shape)"
      ],
      "execution_count": 0,
      "outputs": [
        {
          "output_type": "stream",
          "text": [
            "(69733, 28)\n",
            "(69733,)\n"
          ],
          "name": "stdout"
        }
      ]
    },
    {
      "cell_type": "code",
      "metadata": {
        "colab_type": "code",
        "id": "46--yvrwvwbc",
        "outputId": "0840b45f-b0fe-4d63-f532-f8ae8ff85ed8",
        "colab": {
          "base_uri": "https://localhost:8080/",
          "height": 34
        }
      },
      "source": [
        "from sklearn.svm import SVC\n",
        "from sklearn.pipeline import Pipeline\n",
        "from sklearn.model_selection import GridSearchCV\n",
        "from sklearn.model_selection import cross_val_score\n",
        "\n",
        "svm_scaler = sk.preprocessing.StandardScaler()\n",
        "svc = SVC()\n",
        "\n",
        "pipe = Pipeline(steps=[('scaler', svm_scaler), ('svc', svc)])\n",
        "\n",
        "svm_score = cross_val_score(pipe, svm_data_features,svm_data_labels,cv=5)\n",
        "\n",
        "print(\"Accuracy:\", svm_score.mean()*100)"
      ],
      "execution_count": 0,
      "outputs": [
        {
          "output_type": "stream",
          "text": [
            "Accuracy: 79.15764620633921\n"
          ],
          "name": "stdout"
        }
      ]
    },
    {
      "cell_type": "code",
      "metadata": {
        "id": "haHt5UiJ4ugS",
        "colab_type": "code",
        "colab": {}
      },
      "source": [
        "import pickle #set this final_model to your final model\n",
        "final_model = svm_score\n",
        "\n",
        "filename = 'finalized_model.sav'\n",
        "pickle.dump(final_model, open(filename, 'wb'))\n"
      ],
      "execution_count": 0,
      "outputs": []
    },
    {
      "cell_type": "markdown",
      "metadata": {
        "colab_type": "text",
        "id": "fANbsUUF3AwP"
      },
      "source": [
        "## KNN"
      ]
    },
    {
      "cell_type": "code",
      "metadata": {
        "colab_type": "code",
        "id": "Mh-2xNtWvwbe",
        "colab": {}
      },
      "source": [
        "from sklearn.neighbors import KNeighborsClassifier\n",
        "from sklearn.preprocessing import MinMaxScaler\n",
        "from sklearn.model_selection import cross_val_score\n",
        "from sklearn.model_selection import cross_val_predict\n",
        "from sklearn.metrics import confusion_matrix, classification_report\n",
        "from sklearn.model_selection import GridSearchCV\n",
        "\n",
        "KNN_X = pca_features_train\n",
        "KNN_Y = pca_label_train\n"
      ],
      "execution_count": 0,
      "outputs": []
    },
    {
      "cell_type": "code",
      "metadata": {
        "colab_type": "code",
        "id": "IvtbFYqFy32x",
        "outputId": "0f7132d1-adf5-4c2e-eee2-8a936ccc7c14",
        "colab": {
          "base_uri": "https://localhost:8080/",
          "height": 204
        }
      },
      "source": [
        "clf = KNeighborsClassifier(n_neighbors=5)\n",
        "KNN_Y_pred = cross_val_predict(clf, KNN_X, KNN_Y, cv=5)\n",
        "\n",
        "print(confusion_matrix(KNN_Y, KNN_Y_pred))\n",
        "print(classification_report(KNN_Y, KNN_Y_pred))"
      ],
      "execution_count": 0,
      "outputs": [
        {
          "output_type": "stream",
          "text": [
            "[[44524  6093]\n",
            " [10178  8938]]\n",
            "              precision    recall  f1-score   support\n",
            "\n",
            "           0       0.81      0.88      0.85     50617\n",
            "           1       0.59      0.47      0.52     19116\n",
            "\n",
            "    accuracy                           0.77     69733\n",
            "   macro avg       0.70      0.67      0.68     69733\n",
            "weighted avg       0.75      0.77      0.76     69733\n",
            "\n"
          ],
          "name": "stdout"
        }
      ]
    },
    {
      "cell_type": "code",
      "metadata": {
        "colab_type": "code",
        "id": "u0n-KXEr0a5N",
        "outputId": "2b79a4b7-842b-408b-b7f4-4f5e1e73768c",
        "colab": {
          "base_uri": "https://localhost:8080/",
          "height": 418
        }
      },
      "source": [
        "clf = KNeighborsClassifier()\n",
        "params = {\"n_neighbors\": list(range(25,76,10))}\n",
        "\n",
        "\n",
        "KNN_grid_search = GridSearchCV(clf, params, cv=5, scoring='accuracy')\n",
        "\n",
        "KNN_grid_search.fit(KNN_X, KNN_Y)\n",
        "\n",
        "print(KNN_grid_search.best_params_)\n",
        "\n",
        "accuracy = cross_val_score(KNN_grid_search, KNN_X, KNN_Y, cv=5, scoring='accuracy')\n",
        "print(\"Accuracy:\",round(np.mean(accuracy)*100,3))"
      ],
      "execution_count": 0,
      "outputs": [
        {
          "output_type": "stream",
          "text": [
            "{'n_neighbors': 35}\n",
            "Accuracy: 78.091\n"
          ],
          "name": "stdout"
        }
      ]
    },
    {
      "cell_type": "markdown",
      "metadata": {
        "colab_type": "text",
        "id": "6KElMopU3KNT"
      },
      "source": [
        "## NB"
      ]
    },
    {
      "cell_type": "code",
      "metadata": {
        "colab_type": "code",
        "id": "g-z1wQh5q_1q",
        "colab": {}
      },
      "source": [
        "#Naive Bayes algorithm assumes strong independence between features.\n",
        "#import GaussianNB so liklihood of continuous features is estimated using a Gaussian distribution. \n",
        "from sklearn.naive_bayes import GaussianNB\n",
        "from sklearn.model_selection import cross_val_score\n",
        "\n",
        "#set train and test data\n",
        "YData = pca_label_train\n",
        "XData = pca_features_train\n",
        "\n",
        "#fit the data to the NB Classifier model\n",
        "nbc = GaussianNB()\n",
        "nbc = nbc.fit(XData, YData)\n",
        "\n",
        "#use a 10 fold cross validation to determine accuracy of NB model\n",
        "nbcscores = cross_val_score(nbc, XData, YData, cv=10)\n",
        "print(\"scores: \", nbcscores)\n",
        "print(\"Accuracy:\", scores.mean()*100)"
      ],
      "execution_count": 0,
      "outputs": []
    },
    {
      "cell_type": "markdown",
      "metadata": {
        "colab_type": "text",
        "id": "GVWC70p94ugX"
      },
      "source": [
        "## Naive Bayes"
      ]
    },
    {
      "cell_type": "code",
      "metadata": {
        "colab_type": "code",
        "id": "ejS6zyVr3POP",
        "outputId": "ba4a1a14-057c-4652-db27-dff9c610b998",
        "colab": {
          "base_uri": "https://localhost:8080/",
          "height": 35
        }
      },
      "source": [
        "#Naive Bayes algorithm assumes strong independence between features.\n",
        "\n",
        "#import GaussianNB so liklihood of continuous features is estimated using a Gaussian distribution. \n",
        "from sklearn.naive_bayes import GaussianNB\n",
        "from sklearn.model_selection import cross_val_score\n",
        "\n",
        "#set train and test data\n",
        "YData = pca_label_train\n",
        "XData = pca_features_train\n",
        "\n",
        "#fit the data to the NB Classifier model\n",
        "nbc = GaussianNB()\n",
        "nbc = nbc.fit(XData, YData)\n",
        "\n",
        "#use a 10 fold cross validation to determine accuracy of NB model\n",
        "nbcscores = cross_val_score(nbc, XData, YData, cv=10)\n",
        "print(\"scores: \", nbcscores)\n",
        "print(\"Accuracy:\", nbcscores.mean()*100)"
      ],
      "execution_count": 0,
      "outputs": [
        {
          "output_type": "stream",
          "text": [
            "scores:  [0.52150846 0.52753083 0.52968167 0.52767422 0.53449018 0.52961423\n",
            " 0.54194751 0.52330417 0.5237344  0.53141136]\n",
            "Accuracy: 52.908970337268926\n"
          ],
          "name": "stdout"
        }
      ]
    },
    {
      "cell_type": "markdown",
      "metadata": {
        "colab_type": "text",
        "id": "Zw_CvzwS3Ts8"
      },
      "source": [
        "## Ensemble"
      ]
    },
    {
      "cell_type": "markdown",
      "metadata": {
        "colab_type": "text",
        "id": "qeRWRn4kWE1T"
      },
      "source": [
        "Random Forests Ensemble"
      ]
    },
    {
      "cell_type": "code",
      "metadata": {
        "colab_type": "code",
        "id": "Ltlv1x7GUauA",
        "outputId": "8dbc19af-2307-4349-cc3f-cf8a686d3d18",
        "colab": {}
      },
      "source": [
        "from sklearn.ensemble import RandomForestClassifier\n",
        "from sklearn.model_selection import GridSearchCV\n",
        "from sklearn.model_selection import cross_val_score\n",
        "\n",
        "#set training and test sets\n",
        "YData = pca_label_train\n",
        "XData = pca_features_train\n",
        "\n",
        "#use a Random Forest Classfier to tune hyperparameters for optimal fit \n",
        "rfc = RandomForestClassifier()\n",
        "params = {'max_depth': [10,50,100], 'min_samples_leaf': [25,50,100], 'max_features':['sqrt','log2']}\n",
        "rfc_grid = GridSearchCV(rfc, params)\n",
        "rfc_grid.fit(XData, YData)\n",
        "\n",
        "#use a 10 fold cross validation to determine accuracy of Random Forests model\n",
        "rfc_cvs = cross_val_score(rfc_grid, XData, YData, cv=10)\n",
        "print(\"Accuracy:\", rfc_cvs.mean()*100)"
      ],
      "execution_count": 0,
      "outputs": [
        {
          "output_type": "stream",
          "text": [
            "Accuracy: 79.22791128340879\n"
          ],
          "name": "stdout"
        }
      ]
    },
    {
      "cell_type": "markdown",
      "metadata": {
        "colab_type": "text",
        "id": "Hud6SOfCV51T"
      },
      "source": [
        "Boosting Ensemble"
      ]
    },
    {
      "cell_type": "code",
      "metadata": {
        "colab_type": "code",
        "id": "h4G44qqOWDGx",
        "outputId": "1817a6e0-d041-41b9-fca7-a3db3fd445cf",
        "colab": {}
      },
      "source": [
        "from sklearn.ensemble import AdaBoostClassifier\n",
        "\n",
        "#use a Boosting Classfier to tune hyperparameters for optimal fit \n",
        "b = AdaBoostClassifier()\n",
        "params = {'n_estimators': [*range(50,251,25)]}\n",
        "b_grid = GridSearchCV(b, params)\n",
        "b_grid.fit(XData, YData)\n",
        "\n",
        "#use a 10 fold cross validation to determine accuracy of ADABoosting model\n",
        "b_cvs = cross_val_score(b_grid, XData, YData, cv=10)\n",
        "print(\"Accuracy:\", b_cvs.mean()*100)"
      ],
      "execution_count": 0,
      "outputs": [
        {
          "output_type": "stream",
          "text": [
            "Accuracy: 78.45925432478276\n"
          ],
          "name": "stdout"
        }
      ]
    },
    {
      "cell_type": "markdown",
      "metadata": {
        "colab_type": "text",
        "id": "ZstYoSHh3A-F"
      },
      "source": [
        "## Neural Networks(NN)"
      ]
    },
    {
      "cell_type": "markdown",
      "metadata": {
        "colab_type": "text",
        "id": "mCKDB3Q-o5nF"
      },
      "source": [
        "For this NN we created a pipeline that includes scaling and the MLPClassifier."
      ]
    },
    {
      "cell_type": "code",
      "metadata": {
        "colab_type": "code",
        "id": "Ek7zktc8n8Of",
        "colab": {}
      },
      "source": [
        "from sklearn.neural_network import MLPClassifier\n",
        "from sklearn.preprocessing import StandardScaler\n",
        "#from sklearn.pipeline import Pipeline\n",
        "from sklearn.model_selection import cross_val_score\n",
        "from sklearn.model_selection import GridSearchCV\n",
        "\n",
        "YData = pca_label_train\n",
        "XData = pca_features_train\n",
        "\n",
        "mlp = MLPClassifier()\n",
        "#scaler = StandardScaler()\n",
        "\n",
        "#pipe = Pipeline(steps=[('scaler', scaler), ('mlp', mlp)])\n",
        "#pipe = Pipeline(steps=[('mlp', mlp)])"
      ],
      "execution_count": 0,
      "outputs": []
    },
    {
      "cell_type": "markdown",
      "metadata": {
        "colab_type": "text",
        "id": "DUxAITZnov7I"
      },
      "source": [
        "Then we defined a hyper-parameter space to search."
      ]
    },
    {
      "cell_type": "code",
      "metadata": {
        "colab_type": "code",
        "id": "UDpPFqhop-Pa",
        "colab": {}
      },
      "source": [
        "param_grid = {'hidden_layer_sizes': [(11,),(22,),(11,11),(22,22)], \n",
        "              'activation':['logistic','tanh','relu'],\n",
        "              'solver': ['adam'],\n",
        "              'alpha':[0.01, 0.05]}"
      ],
      "execution_count": 0,
      "outputs": []
    },
    {
      "cell_type": "markdown",
      "metadata": {
        "colab_type": "text",
        "id": "6N-z0bQyqFW-"
      },
      "source": [
        "After that we can run the search:"
      ]
    },
    {
      "cell_type": "code",
      "metadata": {
        "colab_type": "code",
        "id": "Tjvn5GR6qOVx",
        "outputId": "8bebaa01-9af6-42c8-d0c5-6fe0c5f3ce46",
        "colab": {
          "base_uri": "https://localhost:8080/",
          "height": 51
        }
      },
      "source": [
        "gscv=GridSearchCV(mlp, param_grid, cv=5 )\n",
        "gscv.fit(XData, YData)\n",
        "print('Best parameters found:\\n', gscv.best_params_)"
      ],
      "execution_count": 0,
      "outputs": [
        {
          "output_type": "stream",
          "text": [
            "Best parameters found:\n",
            " {'activation': 'tanh', 'alpha': 0.05, 'hidden_layer_sizes': (22, 22), 'solver': 'adam'}\n"
          ],
          "name": "stdout"
        }
      ]
    },
    {
      "cell_type": "markdown",
      "metadata": {
        "colab_type": "text",
        "id": "_vjd6wv1qaF_"
      },
      "source": [
        "And finally see the results:"
      ]
    },
    {
      "cell_type": "code",
      "metadata": {
        "colab_type": "code",
        "id": "HpUjdXin3Ptt",
        "colab": {}
      },
      "source": [
        "scores = cross_val_score(gscv, XData, YData, cv=5)\n",
        "print(\"scores: \", scores)\n",
        "print(\"Accuracy: \", scores.mean())"
      ],
      "execution_count": 0,
      "outputs": []
    },
    {
      "cell_type": "markdown",
      "metadata": {
        "id": "vZWkY6pF41wc",
        "colab_type": "text"
      },
      "source": [
        "Didn't get to see the results due to computing time."
      ]
    },
    {
      "cell_type": "markdown",
      "metadata": {
        "colab_type": "text",
        "id": "iHpgaFwIvwbf"
      },
      "source": [
        "# Results and Conclusion "
      ]
    },
    {
      "cell_type": "code",
      "metadata": {
        "id": "238Rd3ca4ugl",
        "colab_type": "code",
        "outputId": "ccbdc6b7-47ce-4d21-8da4-3645ca490afe",
        "colab": {
          "base_uri": "https://localhost:8080/",
          "height": 266
        }
      },
      "source": [
        "import pandas as pd \n",
        "table = pd.DataFrame({\"Model\": [\"Decision Tree\",  \"SVM\", 'KNN', 'Naive Bayes', 'Random Forests Ensemble', 'Boosting ensemble'],\n",
        "                     \"Accuracy Scores\": [\"78.40\", \"79.15\", \"78.091\", \"52.90\", \"79.12\", \"78.45\",\n",
        "                                         ]})\n",
        "\n",
        "\n",
        "table[\"Model\"] = table[\"Model\"].astype(\"category\")\n",
        "table[\"Accuracy Scores\"] = table[\"Accuracy Scores\"].astype(\"float32\")\n",
        "\n",
        "pd.pivot_table(table, index = [\"Model\"]).sort_values(by = 'Accuracy Scores', ascending=False)"
      ],
      "execution_count": 0,
      "outputs": [
        {
          "output_type": "execute_result",
          "data": {
            "text/html": [
              "<div>\n",
              "<style scoped>\n",
              "    .dataframe tbody tr th:only-of-type {\n",
              "        vertical-align: middle;\n",
              "    }\n",
              "\n",
              "    .dataframe tbody tr th {\n",
              "        vertical-align: top;\n",
              "    }\n",
              "\n",
              "    .dataframe thead th {\n",
              "        text-align: right;\n",
              "    }\n",
              "</style>\n",
              "<table border=\"1\" class=\"dataframe\">\n",
              "  <thead>\n",
              "    <tr style=\"text-align: right;\">\n",
              "      <th></th>\n",
              "      <th>Accuracy Scores</th>\n",
              "    </tr>\n",
              "    <tr>\n",
              "      <th>Model</th>\n",
              "      <th></th>\n",
              "    </tr>\n",
              "  </thead>\n",
              "  <tbody>\n",
              "    <tr>\n",
              "      <th>SVM</th>\n",
              "      <td>79.150002</td>\n",
              "    </tr>\n",
              "    <tr>\n",
              "      <th>Random Forests Ensemble</th>\n",
              "      <td>79.120003</td>\n",
              "    </tr>\n",
              "    <tr>\n",
              "      <th>Boosting ensemble</th>\n",
              "      <td>78.449997</td>\n",
              "    </tr>\n",
              "    <tr>\n",
              "      <th>Decision Tree</th>\n",
              "      <td>78.400002</td>\n",
              "    </tr>\n",
              "    <tr>\n",
              "      <th>KNN</th>\n",
              "      <td>78.091003</td>\n",
              "    </tr>\n",
              "    <tr>\n",
              "      <th>Naive Bayes</th>\n",
              "      <td>52.900002</td>\n",
              "    </tr>\n",
              "  </tbody>\n",
              "</table>\n",
              "</div>"
            ],
            "text/plain": [
              "                         Accuracy Scores\n",
              "Model                                   \n",
              "SVM                            79.150002\n",
              "Random Forests Ensemble        79.120003\n",
              "Boosting ensemble              78.449997\n",
              "Decision Tree                  78.400002\n",
              "KNN                            78.091003\n",
              "Naive Bayes                    52.900002"
            ]
          },
          "metadata": {
            "tags": []
          },
          "execution_count": 5
        }
      ]
    },
    {
      "cell_type": "markdown",
      "metadata": {
        "id": "YHyNbq0I7Ehk",
        "colab_type": "text"
      },
      "source": [
        "In conclusion, we chose SVM as the best model with which to evaluate our dataset. We made this decision because this model had the highest accuracy when evaluated with a cross validation. Additionally, SVM is very effective in high dimensional spaces."
      ]
    },
    {
      "cell_type": "markdown",
      "metadata": {
        "id": "aQNq9aTJ81ZJ",
        "colab_type": "text"
      },
      "source": [
        "To further evaluate the accuracy of this model, we will test it with our test set produced through Principal Component Analysis, and display a confusion matrix for further analysis."
      ]
    },
    {
      "cell_type": "code",
      "metadata": {
        "colab_type": "code",
        "id": "0s6EFz1Cvwbf",
        "colab": {}
      },
      "source": [
        "pipe.fit(svm_data_features,svm_data_labels)\n",
        "predictions = pipe.predict(pca_features_test)"
      ],
      "execution_count": 0,
      "outputs": []
    },
    {
      "cell_type": "code",
      "metadata": {
        "colab_type": "code",
        "id": "cKx0R-FOvwbh",
        "outputId": "f6e36d46-a268-4c7c-d8e4-11c29b73a95c",
        "colab": {}
      },
      "source": [
        "from sklearn.metrics import classification_report\n",
        "print(classification_report(pca_label_test,predictions))\n",
        "from sklearn.metrics import confusion_matrix\n",
        "print(confusion_matrix(pca_label_test, predictions))"
      ],
      "execution_count": 0,
      "outputs": [
        {
          "output_type": "stream",
          "text": [
            "              precision    recall  f1-score   support\n",
            "\n",
            "           0       0.79      0.95      0.86     12561\n",
            "           1       0.73      0.37      0.49      4873\n",
            "\n",
            "    accuracy                           0.78     17434\n",
            "   macro avg       0.76      0.66      0.68     17434\n",
            "weighted avg       0.78      0.78      0.76     17434\n",
            "\n",
            "[[11895   666]\n",
            " [ 3090  1783]]\n"
          ],
          "name": "stdout"
        }
      ]
    },
    {
      "cell_type": "markdown",
      "metadata": {
        "id": "fme0iwVo7Szp",
        "colab_type": "text"
      },
      "source": [
        "From confusion Matrix we can conclude that we predicted  \n",
        "**True positive: 11895**  \n",
        "**True negative: 1783** \n",
        "**False positive: 666**\n",
        "**False negative: 3090**\n",
        "\n",
        "**Accuracy = (TP+TN)/total**  \n",
        "**Accuracy = (11895+1783)/17434 ~ 78%**  \n",
        "**Error Rate = (FP+FN)/total**  \n",
        "**Error rate = (666+3090)/17434 ~21%**"
      ]
    },
    {
      "cell_type": "markdown",
      "metadata": {
        "id": "6SL7mwrT8-Ji",
        "colab_type": "text"
      },
      "source": [
        "Finally, we will optimize our model for future booking cancellation predictions by training it with our test data. Using the entire classified dataset in our highest performing model should serve to improve its predictive accuracy moving forward.\n",
        "Given that this model has already been trained with 4 times the amount of data in the pca training set, we are not particularly concerned with the risk of overfitting our model to this additional test data."
      ]
    },
    {
      "cell_type": "markdown",
      "metadata": {
        "id": "EtCD_cym9K3R",
        "colab_type": "text"
      },
      "source": [
        "A few other models came quite close, but we decided not to proceed with those for the reasons listed below:\n",
        "\n",
        "a) Decision Trees provided a lower accuracy compared to the other models due to their simplicity and the variance in the data\n",
        "\n",
        "b) KNN was less accurate that the other models due to the curse of dimensionality drastically affecting the algorithm\n",
        "\n",
        "c) Naive Bayes fails to work on datasets with such high dimensionality as ours\n",
        "\n",
        "d) If the ensemble methods' hyperparameter tuning are not optimal, there is a risk of overfitting or having a biased model.\n",
        "\n",
        "e) Our Neural Net algorithm took an extremely long time (more than 4 hours) and still did not finish running. Due to this, we were unable to effectively evaluate this algorithm."
      ]
    }
  ]
}